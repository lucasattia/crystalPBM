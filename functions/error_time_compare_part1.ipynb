{
 "cells": [
  {
   "cell_type": "code",
   "execution_count": 4,
   "metadata": {},
   "outputs": [
    {
     "name": "stdout",
     "output_type": "stream",
     "text": [
      "The autoreload extension is already loaded. To reload it, use:\n",
      "  %reload_ext autoreload\n"
     ]
    }
   ],
   "source": [
    "import numpy as np\n",
    "import matplotlib.pyplot as plt\n",
    "from evalf import evalf\n",
    "from trapezoidalMatrixFree import trapezoidalMatrixFree\n",
    "from trapezoidal import rk_integrator, expand_params\n",
    "\n",
    "%load_ext autoreload\n",
    "%autoreload 2\n",
    "\n",
    "def better_imshow(row_vals, col_vals, data, ax=None):\n",
    "    #row_vals and col_vals are the data that was swept over\n",
    "    assert len(row_vals) == data.shape[0], 'length of row_vals does not match shape of data'\n",
    "    assert len(col_vals) == data.shape[1], 'length of col_vals does not match shape of data'\n",
    "    if ax == None:\n",
    "        plt.imshow(data, origin='lower', extent=[col_vals[0], col_vals[-1], row_vals[0], row_vals[-1]], aspect='auto')\n",
    "    else:\n",
    "        ax.imshow(data, origin='lower', extent=[col_vals[0], col_vals[-1], row_vals[0], row_vals[-1]], aspect='auto')\n",
    "        \n",
    "        \n",
    "def plot_results(x, L_list, tlist):\n",
    "    n_t = x[:,2:]\n",
    "    plt.pcolormesh(tlist, L_list, n_t.T, shading='nearest')\n",
    "    # plt.contourf(tlist, L_list, n_t.T)\n",
    "    plt.ylabel('L (particle size)')\n",
    "    plt.xlabel('time')\n",
    "    plt.colorbar()\n",
    "    plt.show()\n",
    "\n",
    "    # plt.plot(tlist, x[:,0]) \n",
    "    # plt.title('supersaturation')\n",
    "    # plt.xlabel('t')\n",
    "    # plt.show()\n",
    "\n",
    "    # plt.plot(tlist, x[:,1]) \n",
    "    # plt.title('volume')\n",
    "    # plt.xlabel('t')"
   ]
  },
  {
   "cell_type": "code",
   "execution_count": 15,
   "metadata": {},
   "outputs": [
    {
     "data": {
      "application/vnd.jupyter.widget-view+json": {
       "model_id": "b23140b30e94429e93c66a5fb428037f",
       "version_major": 2,
       "version_minor": 0
      },
      "text/plain": [
       "  0%|          | 0/200 [00:00<?, ?it/s]"
      ]
     },
     "metadata": {},
     "output_type": "display_data"
    },
    {
     "data": {
      "application/vnd.jupyter.widget-view+json": {
       "model_id": "9207bf46a0df438882ee3e8f0c0108be",
       "version_major": 2,
       "version_minor": 0
      },
      "text/plain": [
       "  0%|          | 0/334 [00:00<?, ?it/s]"
      ]
     },
     "metadata": {},
     "output_type": "display_data"
    },
    {
     "data": {
      "application/vnd.jupyter.widget-view+json": {
       "model_id": "ad9d1622a34749d2a39c345595d3c2bc",
       "version_major": 2,
       "version_minor": 0
      },
      "text/plain": [
       "  0%|          | 0/557 [00:00<?, ?it/s]"
      ]
     },
     "metadata": {},
     "output_type": "display_data"
    },
    {
     "data": {
      "application/vnd.jupyter.widget-view+json": {
       "model_id": "7c9b6f5266fa4ad1930c5f2e508a1f84",
       "version_major": 2,
       "version_minor": 0
      },
      "text/plain": [
       "  0%|          | 0/929 [00:00<?, ?it/s]"
      ]
     },
     "metadata": {},
     "output_type": "display_data"
    },
    {
     "data": {
      "application/vnd.jupyter.widget-view+json": {
       "model_id": "988b903574bc40fc85a8a781103f0c52",
       "version_major": 2,
       "version_minor": 0
      },
      "text/plain": [
       "  0%|          | 0/1549 [00:00<?, ?it/s]"
      ]
     },
     "metadata": {},
     "output_type": "display_data"
    },
    {
     "data": {
      "application/vnd.jupyter.widget-view+json": {
       "model_id": "80ba244e5b3148a5a81e1065240f38e9",
       "version_major": 2,
       "version_minor": 0
      },
      "text/plain": [
       "  0%|          | 0/2584 [00:00<?, ?it/s]"
      ]
     },
     "metadata": {},
     "output_type": "display_data"
    },
    {
     "data": {
      "application/vnd.jupyter.widget-view+json": {
       "model_id": "86bf5d4724e7465aaa4c8cef2f311812",
       "version_major": 2,
       "version_minor": 0
      },
      "text/plain": [
       "  0%|          | 0/4309 [00:00<?, ?it/s]"
      ]
     },
     "metadata": {},
     "output_type": "display_data"
    },
    {
     "data": {
      "application/vnd.jupyter.widget-view+json": {
       "model_id": "5499f71f95b04cb58066f7728a55d5ae",
       "version_major": 2,
       "version_minor": 0
      },
      "text/plain": [
       "  0%|          | 0/7188 [00:00<?, ?it/s]"
      ]
     },
     "metadata": {},
     "output_type": "display_data"
    },
    {
     "data": {
      "application/vnd.jupyter.widget-view+json": {
       "model_id": "0ddc0949c00d472286687fbabc42501c",
       "version_major": 2,
       "version_minor": 0
      },
      "text/plain": [
       "  0%|          | 0/11990 [00:00<?, ?it/s]"
      ]
     },
     "metadata": {},
     "output_type": "display_data"
    },
    {
     "data": {
      "application/vnd.jupyter.widget-view+json": {
       "model_id": "f73d760e80f5412bbd54cdef4a1b0320",
       "version_major": 2,
       "version_minor": 0
      },
      "text/plain": [
       "  0%|          | 0/20000 [00:00<?, ?it/s]"
      ]
     },
     "metadata": {},
     "output_type": "display_data"
    }
   ],
   "source": [
    "# start by computing a reference with RK4\n",
    "\n",
    "t_final = 20\n",
    "L_list = np.linspace(0,1e-2,50)\n",
    "\n",
    "S0 = 1 #initial supersaturation\n",
    "V0 = 1 #initial volume\n",
    "n0 = np.zeros_like(L_list) #initial population density distribution\n",
    "x0 = np.hstack([S0, V0, n0])\n",
    "\n",
    "p = {\"L_list\" : L_list, #discretization bins\n",
    "     'E' :  1e-7, #evaporation rate\n",
    "     'rho' : 1200, # density of the crystal\n",
    "     'k_v' : 1, #goes in N_C, volumetric shape factor\n",
    "     'k_g' : 1e-3, #growth rate constant m/s\n",
    "     'g' : 1, #power constant for growth\n",
    "     'k_N' : 1e5, #nucleation rate constant \n",
    "     'alpha' :2, #power constant for nucleation\n",
    "     'weno': False  # use weno or not for differentiation w.r.t. L\n",
    "     }\n",
    "\n",
    "p_expand = expand_params(p)\n",
    "\n",
    "xlist = []\n",
    "for dt in np.logspace(-1, -3, 10):\n",
    "    # dt = 1e-1\n",
    "    tlist = np.arange(0, t_final, dt)\n",
    "    x_t = rk_integrator(x0, tlist, p)\n",
    "    xlist.append(x_t[-1,:])\n",
    "    # plot_results(x_t, L_list, tlist)"
   ]
  },
  {
   "cell_type": "code",
   "execution_count": 16,
   "metadata": {},
   "outputs": [
    {
     "data": {
      "text/plain": [
       "[<matplotlib.lines.Line2D at 0x2351a840860>]"
      ]
     },
     "execution_count": 16,
     "metadata": {},
     "output_type": "execute_result"
    },
    {
     "data": {
      "image/png": "[encoded data removed]",
      "text/plain": [
       "<Figure size 640x480 with 1 Axes>"
      ]
     },
     "metadata": {},
     "output_type": "display_data"
    }
   ],
   "source": [
    "errors = []\n",
    "for i in range(len(xlist)-1):\n",
    "    errors.append(np.linalg.norm((xlist[i+1]-xlist[i]))/np.linalg.norm(xlist[i+1]))\n",
    "    \n",
    "plt.plot(errors)"
   ]
  },
  {
   "cell_type": "code",
   "execution_count": 17,
   "metadata": {},
   "outputs": [
    {
     "data": {
      "text/plain": [
       "array([3.80281715e-03, 9.99998000e-01, 1.62422087e+06, 1.61987689e+06,\n",
       "       1.61190745e+06, 1.60074326e+06, 1.58610030e+06, 1.56811217e+06,\n",
       "       1.54792254e+06, 1.52610913e+06, 1.50179543e+06, 1.47444896e+06,\n",
       "       1.44536221e+06, 1.41601938e+06, 1.38586396e+06, 1.35320708e+06,\n",
       "       1.31804433e+06, 1.28247123e+06, 1.24795306e+06, 1.21332335e+06,\n",
       "       1.17634279e+06, 1.13675351e+06, 1.09685149e+06, 1.05887593e+06,\n",
       "       1.02241505e+06, 9.84835144e+05, 9.44159161e+05, 9.01227789e+05,\n",
       "       8.58972429e+05, 8.19672119e+05, 7.82878132e+05, 7.45798530e+05,\n",
       "       7.05619293e+05, 6.61732168e+05, 6.16193137e+05, 5.72277941e+05,\n",
       "       5.32332878e+05, 4.96369860e+05, 4.62123794e+05, 4.26318890e+05,\n",
       "       3.86272639e+05, 3.41054583e+05, 2.91707398e+05, 2.40822068e+05,\n",
       "       1.91452606e+05, 1.46579693e+05, 1.07887286e+05, 7.67399067e+04,\n",
       "       5.22215034e+04, 3.49568433e+04, 2.16076118e+04, 1.43846805e+04])"
      ]
     },
     "execution_count": 17,
     "metadata": {},
     "output_type": "execute_result"
    }
   ],
   "source": []
  }
 ],
 "metadata": {
  "kernelspec": {
   "display_name": "crystalPBM",
   "language": "python",
   "name": "python3"
  },
  "language_info": {
   "codemirror_mode": {
    "name": "ipython",
    "version": 3
   },
   "file_extension": ".py",
   "mimetype": "text/x-python",
   "name": "python",
   "nbconvert_exporter": "python",
   "pygments_lexer": "ipython3",
   "version": "3.12.0"
  }
 },
 "nbformat": 4,
 "nbformat_minor": 2
}
