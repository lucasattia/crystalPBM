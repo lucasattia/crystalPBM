{
 "cells": [
  {
   "cell_type": "code",
   "execution_count": 30,
   "metadata": {},
   "outputs": [
    {
     "name": "stdout",
     "output_type": "stream",
     "text": [
      "The autoreload extension is already loaded. To reload it, use:\n",
      "  %reload_ext autoreload\n"
     ]
    }
   ],
   "source": [
    "import numpy as np\n",
    "import matplotlib.pyplot as plt\n",
    "from evalf import evalf\n",
    "from dt_compare import dt_compare\n",
    "from scipy.integrate import odeint\n",
    "from simple_trap import simple_trap\n",
    "from simple_trap import simple_matrix_free_trap\n",
    "from euler import euler\n",
    "from trapezoidal import rk_integrator\n",
    "from trapezoidal import expand_params\n",
    "from deathrate import a\n",
    "from tqdm.notebook import tqdm\n",
    "%load_ext autoreload\n",
    "%autoreload 2\n",
    "\n",
    "\n",
    "def better_imshow(row_vals, col_vals, data, ax=None):\n",
    "    #row_vals and col_vals are the data that was swept over\n",
    "    assert len(row_vals) == data.shape[0], 'length of row_vals does not match shape of data'\n",
    "    assert len(col_vals) == data.shape[1], 'length of col_vals does not match shape of data'\n",
    "    if ax == None:\n",
    "        plt.imshow(data, origin='lower', extent=[col_vals[0], col_vals[-1], row_vals[0], row_vals[-1]], aspect='auto')\n",
    "    else:\n",
    "        ax.imshow(data, origin='lower', extent=[col_vals[0], col_vals[-1], row_vals[0], row_vals[-1]], aspect='auto')"
   ]
  },
  {
   "cell_type": "code",
   "execution_count": 33,
   "metadata": {},
   "outputs": [
    {
     "name": "stdout",
     "output_type": "stream",
     "text": [
      "Errors for different time discretizations are: [0.0, 0.0]\n",
      "Time taken for different time discretizations are: [48.59362006187439, 49.30958652496338]\n"
     ]
    },
    {
     "data": {
      "application/vnd.jupyter.widget-view+json": {
       "model_id": "c4eb83f7c18a43e2bf4ddce93b06c082",
       "version_major": 2,
       "version_minor": 0
      },
      "text/plain": [
       "  0%|          | 0/1000 [00:00<?, ?it/s]"
      ]
     },
     "metadata": {},
     "output_type": "display_data"
    },
    {
     "data": {
      "application/vnd.jupyter.widget-view+json": {
       "model_id": "4a8b5326187b4b5e9c7ba1eba26cf050",
       "version_major": 2,
       "version_minor": 0
      },
      "text/plain": [
       "  0%|          | 0/1000 [00:00<?, ?it/s]"
      ]
     },
     "metadata": {},
     "output_type": "display_data"
    },
    {
     "data": {
      "application/vnd.jupyter.widget-view+json": {
       "model_id": "5d146ceec5774446b45a3bea40d215ad",
       "version_major": 2,
       "version_minor": 0
      },
      "text/plain": [
       "  0%|          | 0/1000 [00:00<?, ?it/s]"
      ]
     },
     "metadata": {},
     "output_type": "display_data"
    },
    {
     "name": "stdout",
     "output_type": "stream",
     "text": [
      "Errors for different time discretizations are: [0.0, 0.0]\n",
      "Time taken for different time discretizations are: [126.04660749435425, 100.4002046585083]\n"
     ]
    },
    {
     "ename": "TypeError",
     "evalue": "evalf() takes 2 positional arguments but 4 were given",
     "output_type": "error",
     "traceback": [
      "\u001b[1;31m---------------------------------------------------------------------------\u001b[0m",
      "\u001b[1;31mTypeError\u001b[0m                                 Traceback (most recent call last)",
      "Cell \u001b[1;32mIn[33], line 28\u001b[0m\n\u001b[0;32m     24\u001b[0m x0 \u001b[38;5;241m=\u001b[39m np\u001b[38;5;241m.\u001b[39mhstack([S0, V0, n0])\n\u001b[0;32m     27\u001b[0m \u001b[38;5;28;01mfor\u001b[39;00m f \u001b[38;5;129;01min\u001b[39;00m [euler,rk_integrator,simple_trap,simple_matrix_free_trap]:\n\u001b[1;32m---> 28\u001b[0m      error, t \u001b[38;5;241m=\u001b[39m \u001b[43mdt_compare\u001b[49m\u001b[43m(\u001b[49m\u001b[43mx0\u001b[49m\u001b[43m,\u001b[49m\u001b[43m \u001b[49m\u001b[43mdt\u001b[49m\u001b[43m,\u001b[49m\u001b[43m \u001b[49m\u001b[43mp_expand\u001b[49m\u001b[43m,\u001b[49m\u001b[43m \u001b[49m\u001b[43mf\u001b[49m\u001b[43m,\u001b[49m\u001b[43m \u001b[49m\u001b[43mt_final\u001b[49m\u001b[43m)\u001b[49m\n\u001b[0;32m     30\u001b[0m function_names \u001b[38;5;241m=\u001b[39m [\u001b[38;5;124m\"\u001b[39m\u001b[38;5;124mEuler\u001b[39m\u001b[38;5;124m\"\u001b[39m, \u001b[38;5;124m\"\u001b[39m\u001b[38;5;124mRange Kutta\u001b[39m\u001b[38;5;124m\"\u001b[39m, \u001b[38;5;124m\"\u001b[39m\u001b[38;5;124mTrapezoidal\u001b[39m\u001b[38;5;124m\"\u001b[39m, \u001b[38;5;124m\"\u001b[39m\u001b[38;5;124mMatrix Free Trapezoidal\u001b[39m\u001b[38;5;124m\"\u001b[39m] \n\u001b[0;32m     32\u001b[0m \u001b[38;5;28;01mfor\u001b[39;00m i \u001b[38;5;129;01min\u001b[39;00m \u001b[38;5;28mrange\u001b[39m(\u001b[38;5;28mlen\u001b[39m(t)):\n",
      "File \u001b[1;32mc:\\Users\\abhis\\OneDrive - Massachusetts Institute of Technology\\Documents\\GitHub\\crystalPBM\\functions\\dt_compare.py:13\u001b[0m, in \u001b[0;36mdt_compare\u001b[1;34m(x0, dt, p, f, t_final)\u001b[0m\n\u001b[0;32m     10\u001b[0m     x_ref \u001b[38;5;241m=\u001b[39m f(x0, t_ref, p)\n\u001b[0;32m     12\u001b[0m \u001b[38;5;28;01melif\u001b[39;00m (f\u001b[38;5;241m.\u001b[39m\u001b[38;5;18m__name__\u001b[39m \u001b[38;5;241m==\u001b[39m \u001b[38;5;124m'\u001b[39m\u001b[38;5;124msimple_matrix_free_trap\u001b[39m\u001b[38;5;124m'\u001b[39m \u001b[38;5;129;01mor\u001b[39;00m f\u001b[38;5;241m.\u001b[39m\u001b[38;5;18m__name__\u001b[39m \u001b[38;5;241m==\u001b[39m \u001b[38;5;124m'\u001b[39m\u001b[38;5;124msimple_trap\u001b[39m\u001b[38;5;124m'\u001b[39m):\n\u001b[1;32m---> 13\u001b[0m     x_ref,_ \u001b[38;5;241m=\u001b[39m \u001b[43mf\u001b[49m\u001b[43m(\u001b[49m\u001b[43mx0\u001b[49m\u001b[43m,\u001b[49m\u001b[43m \u001b[49m\u001b[43mt_ref\u001b[49m\u001b[43m,\u001b[49m\u001b[43m \u001b[49m\u001b[43mp\u001b[49m\u001b[43m)\u001b[49m\n\u001b[0;32m     15\u001b[0m error \u001b[38;5;241m=\u001b[39m []\n\u001b[0;32m     16\u001b[0m t \u001b[38;5;241m=\u001b[39m []\n",
      "File \u001b[1;32mc:\\Users\\abhis\\OneDrive - Massachusetts Institute of Technology\\Documents\\GitHub\\crystalPBM\\functions\\simple_trap.py:10\u001b[0m, in \u001b[0;36msimple_trap\u001b[1;34m(x0, t_vec, p)\u001b[0m\n\u001b[0;32m      7\u001b[0m \u001b[38;5;28;01mdef\u001b[39;00m \u001b[38;5;21msimple_trap\u001b[39m(x0,t_vec,p):\n\u001b[0;32m      8\u001b[0m     f\u001b[38;5;241m=\u001b[39m \u001b[38;5;28;01mlambda\u001b[39;00m x: evalf(x,p)\n\u001b[1;32m---> 10\u001b[0m     \u001b[38;5;28;01mreturn\u001b[39;00m \u001b[43mtrapezoidal\u001b[49m\u001b[43m(\u001b[49m\u001b[43mf\u001b[49m\u001b[43m,\u001b[49m\u001b[43m \u001b[49m\u001b[43mx0\u001b[49m\u001b[43m,\u001b[49m\u001b[43m \u001b[49m\u001b[43mt_start\u001b[49m\u001b[38;5;241;43m=\u001b[39;49m\u001b[43mt_vec\u001b[49m\u001b[43m[\u001b[49m\u001b[38;5;241;43m0\u001b[39;49m\u001b[43m]\u001b[49m\u001b[43m,\u001b[49m\u001b[43m \u001b[49m\u001b[43mt_end\u001b[49m\u001b[38;5;241;43m=\u001b[39;49m\u001b[43mt_vec\u001b[49m\u001b[43m[\u001b[49m\u001b[38;5;241;43m-\u001b[39;49m\u001b[38;5;241;43m1\u001b[39;49m\u001b[43m]\u001b[49m\u001b[43m,\u001b[49m\u001b[43m \u001b[49m\u001b[43malpha\u001b[49m\u001b[38;5;241;43m=\u001b[39;49m\u001b[38;5;241;43m5e-3\u001b[39;49m\u001b[43m,\u001b[49m\u001b[43m \u001b[49m\u001b[43mjf\u001b[49m\u001b[38;5;241;43m=\u001b[39;49m\u001b[43m \u001b[49m\u001b[38;5;28;43;01mlambda\u001b[39;49;00m\u001b[43m \u001b[49m\u001b[43mx\u001b[49m\u001b[43m:\u001b[49m\u001b[43m \u001b[49m\u001b[43mcalc_jac\u001b[49m\u001b[43m(\u001b[49m\u001b[43mx\u001b[49m\u001b[43m,\u001b[49m\u001b[43m \u001b[49m\u001b[43mp\u001b[49m\u001b[43m,\u001b[49m\u001b[43m \u001b[49m\u001b[43meps\u001b[49m\u001b[38;5;241;43m=\u001b[39;49m\u001b[38;5;241;43m1e-8\u001b[39;49m\u001b[43m)\u001b[49m\u001b[43m,\u001b[49m\u001b[43m \u001b[49m\u001b[43me_f\u001b[49m\u001b[43m \u001b[49m\u001b[38;5;241;43m=\u001b[39;49m\u001b[38;5;241;43m1e-8\u001b[39;49m\u001b[43m,\u001b[49m\u001b[43m \u001b[49m\u001b[43me_delta_x\u001b[49m\u001b[38;5;241;43m=\u001b[39;49m\u001b[38;5;241;43m1e-8\u001b[39;49m\u001b[43m,\u001b[49m\u001b[43m \u001b[49m\u001b[43me_x_rel\u001b[49m\u001b[38;5;241;43m=\u001b[39;49m\u001b[38;5;241;43m1e-8\u001b[39;49m\u001b[43m,\u001b[49m\u001b[43m \u001b[49m\u001b[43mmaxiter\u001b[49m\u001b[38;5;241;43m=\u001b[39;49m\u001b[38;5;241;43m100\u001b[39;49m\u001b[43m)\u001b[49m\n",
      "File \u001b[1;32mc:\\Users\\abhis\\OneDrive - Massachusetts Institute of Technology\\Documents\\GitHub\\crystalPBM\\functions\\implicit_trap.py:42\u001b[0m, in \u001b[0;36mtrapezoidal\u001b[1;34m(f, x0, t_start, t_end, alpha, jf, e_f, e_delta_x, e_x_rel, maxiter)\u001b[0m\n\u001b[0;32m     40\u001b[0m j_trap \u001b[38;5;241m=\u001b[39m \u001b[38;5;28;01mlambda\u001b[39;00m x_new: I \u001b[38;5;241m-\u001b[39m (dt\u001b[38;5;241m/\u001b[39m\u001b[38;5;241m2\u001b[39m)\u001b[38;5;241m*\u001b[39mjf(x_new)\n\u001b[0;32m     41\u001b[0m x_guess \u001b[38;5;241m=\u001b[39m x_prev\n\u001b[1;32m---> 42\u001b[0m x_list, _, _ \u001b[38;5;241m=\u001b[39m \u001b[43mnewtonNd\u001b[49m\u001b[43m(\u001b[49m\u001b[43mtrap\u001b[49m\u001b[43m,\u001b[49m\u001b[43m \u001b[49m\u001b[43mj_trap\u001b[49m\u001b[43m,\u001b[49m\u001b[43m \u001b[49m\u001b[43mx_guess\u001b[49m\u001b[43m,\u001b[49m\u001b[43m \u001b[49m\u001b[43me_f\u001b[49m\u001b[43m,\u001b[49m\u001b[43m \u001b[49m\u001b[43me_delta_x\u001b[49m\u001b[43m,\u001b[49m\u001b[43m \u001b[49m\u001b[43me_x_rel\u001b[49m\u001b[43m,\u001b[49m\u001b[43m \u001b[49m\u001b[43mmaxiter\u001b[49m\u001b[43m)\u001b[49m\n\u001b[0;32m     43\u001b[0m x_vec\u001b[38;5;241m.\u001b[39mappend(x_prev)\n\u001b[0;32m     44\u001b[0m x_prev \u001b[38;5;241m=\u001b[39m x_list[\u001b[38;5;241m-\u001b[39m\u001b[38;5;241m1\u001b[39m]\n",
      "File \u001b[1;32mc:\\Users\\abhis\\OneDrive - Massachusetts Institute of Technology\\Documents\\GitHub\\crystalPBM\\functions\\newton.py:29\u001b[0m, in \u001b[0;36mnewtonNd\u001b[1;34m(f, jf, x0, e_f, e_delta_x, e_x_rel, maxiter)\u001b[0m\n\u001b[0;32m     26\u001b[0m f_list \u001b[38;5;241m=\u001b[39m []\n\u001b[0;32m     28\u001b[0m \u001b[38;5;28;01mwhile\u001b[39;00m k \u001b[38;5;241m<\u001b[39m maxiter \u001b[38;5;129;01mand\u001b[39;00m (np\u001b[38;5;241m.\u001b[39mlinalg\u001b[38;5;241m.\u001b[39mnorm(f(x[k]), np\u001b[38;5;241m.\u001b[39minf) \u001b[38;5;241m>\u001b[39m e_f \u001b[38;5;129;01mor\u001b[39;00m np\u001b[38;5;241m.\u001b[39mlinalg\u001b[38;5;241m.\u001b[39mnorm(delta_x, np\u001b[38;5;241m.\u001b[39minf) \u001b[38;5;241m>\u001b[39m e_delta_x \u001b[38;5;129;01mor\u001b[39;00m x_rel \u001b[38;5;241m>\u001b[39m e_x_rel):\n\u001b[1;32m---> 29\u001b[0m     delta_x \u001b[38;5;241m=\u001b[39m np\u001b[38;5;241m.\u001b[39mlinalg\u001b[38;5;241m.\u001b[39msolve(\u001b[43mjf\u001b[49m\u001b[43m(\u001b[49m\u001b[43mx\u001b[49m\u001b[43m[\u001b[49m\u001b[43mk\u001b[49m\u001b[43m]\u001b[49m\u001b[43m)\u001b[49m, f(x[k]))\n\u001b[0;32m     30\u001b[0m     f_list\u001b[38;5;241m.\u001b[39mappend(f(x[k]))\n\u001b[0;32m     31\u001b[0m     delta_x_list\u001b[38;5;241m.\u001b[39mappend(delta_x)\n",
      "File \u001b[1;32mc:\\Users\\abhis\\OneDrive - Massachusetts Institute of Technology\\Documents\\GitHub\\crystalPBM\\functions\\implicit_trap.py:40\u001b[0m, in \u001b[0;36mtrapezoidal.<locals>.<lambda>\u001b[1;34m(x_new)\u001b[0m\n\u001b[0;32m     38\u001b[0m t_list\u001b[38;5;241m.\u001b[39mappend(time)\n\u001b[0;32m     39\u001b[0m trap \u001b[38;5;241m=\u001b[39m \u001b[38;5;28;01mlambda\u001b[39;00m x_new: x_new \u001b[38;5;241m-\u001b[39m x_prev \u001b[38;5;241m-\u001b[39m (dt\u001b[38;5;241m/\u001b[39m\u001b[38;5;241m2\u001b[39m)\u001b[38;5;241m*\u001b[39m(fval \u001b[38;5;241m+\u001b[39m f(x_new))\n\u001b[1;32m---> 40\u001b[0m j_trap \u001b[38;5;241m=\u001b[39m \u001b[38;5;28;01mlambda\u001b[39;00m x_new: I \u001b[38;5;241m-\u001b[39m (dt\u001b[38;5;241m/\u001b[39m\u001b[38;5;241m2\u001b[39m)\u001b[38;5;241m*\u001b[39m\u001b[43mjf\u001b[49m\u001b[43m(\u001b[49m\u001b[43mx_new\u001b[49m\u001b[43m)\u001b[49m\n\u001b[0;32m     41\u001b[0m x_guess \u001b[38;5;241m=\u001b[39m x_prev\n\u001b[0;32m     42\u001b[0m x_list, _, _ \u001b[38;5;241m=\u001b[39m newtonNd(trap, j_trap, x_guess, e_f, e_delta_x, e_x_rel, maxiter)\n",
      "File \u001b[1;32mc:\\Users\\abhis\\OneDrive - Massachusetts Institute of Technology\\Documents\\GitHub\\crystalPBM\\functions\\simple_trap.py:10\u001b[0m, in \u001b[0;36msimple_trap.<locals>.<lambda>\u001b[1;34m(x)\u001b[0m\n\u001b[0;32m      7\u001b[0m \u001b[38;5;28;01mdef\u001b[39;00m \u001b[38;5;21msimple_trap\u001b[39m(x0,t_vec,p):\n\u001b[0;32m      8\u001b[0m     f\u001b[38;5;241m=\u001b[39m \u001b[38;5;28;01mlambda\u001b[39;00m x: evalf(x,p)\n\u001b[1;32m---> 10\u001b[0m     \u001b[38;5;28;01mreturn\u001b[39;00m trapezoidal(f, x0, t_start\u001b[38;5;241m=\u001b[39mt_vec[\u001b[38;5;241m0\u001b[39m], t_end\u001b[38;5;241m=\u001b[39mt_vec[\u001b[38;5;241m-\u001b[39m\u001b[38;5;241m1\u001b[39m], alpha\u001b[38;5;241m=\u001b[39m\u001b[38;5;241m5e-3\u001b[39m, jf\u001b[38;5;241m=\u001b[39m \u001b[38;5;28;01mlambda\u001b[39;00m x: \u001b[43mcalc_jac\u001b[49m\u001b[43m(\u001b[49m\u001b[43mx\u001b[49m\u001b[43m,\u001b[49m\u001b[43m \u001b[49m\u001b[43mp\u001b[49m\u001b[43m,\u001b[49m\u001b[43m \u001b[49m\u001b[43meps\u001b[49m\u001b[38;5;241;43m=\u001b[39;49m\u001b[38;5;241;43m1e-8\u001b[39;49m\u001b[43m)\u001b[49m, e_f \u001b[38;5;241m=\u001b[39m\u001b[38;5;241m1e-8\u001b[39m, e_delta_x\u001b[38;5;241m=\u001b[39m\u001b[38;5;241m1e-8\u001b[39m, e_x_rel\u001b[38;5;241m=\u001b[39m\u001b[38;5;241m1e-8\u001b[39m, maxiter\u001b[38;5;241m=\u001b[39m\u001b[38;5;241m100\u001b[39m)\n",
      "File \u001b[1;32mc:\\Users\\abhis\\OneDrive - Massachusetts Institute of Technology\\Documents\\GitHub\\crystalPBM\\functions\\jacobian.py:6\u001b[0m, in \u001b[0;36mcalc_jac\u001b[1;34m(x0, params, eps)\u001b[0m\n\u001b[0;32m      4\u001b[0m \u001b[38;5;28;01mdef\u001b[39;00m \u001b[38;5;21mcalc_jac\u001b[39m(x0, params, eps\u001b[38;5;241m=\u001b[39m\u001b[38;5;241m1e-8\u001b[39m):\n\u001b[0;32m      5\u001b[0m     jac \u001b[38;5;241m=\u001b[39m np\u001b[38;5;241m.\u001b[39mzeros((x0\u001b[38;5;241m.\u001b[39mshape[\u001b[38;5;241m0\u001b[39m], x0\u001b[38;5;241m.\u001b[39mshape[\u001b[38;5;241m0\u001b[39m]))\n\u001b[1;32m----> 6\u001b[0m     f0 \u001b[38;5;241m=\u001b[39m \u001b[43mevalf\u001b[49m\u001b[43m(\u001b[49m\u001b[43mx0\u001b[49m\u001b[43m,\u001b[49m\u001b[43m \u001b[49m\u001b[38;5;28;43;01mNone\u001b[39;49;00m\u001b[43m,\u001b[49m\u001b[43m \u001b[49m\u001b[43mparams\u001b[49m\u001b[43m,\u001b[49m\u001b[43m \u001b[49m\u001b[38;5;28;43;01mNone\u001b[39;49;00m\u001b[43m)\u001b[49m\n\u001b[0;32m      8\u001b[0m     \u001b[38;5;28;01mfor\u001b[39;00m i \u001b[38;5;129;01min\u001b[39;00m \u001b[38;5;28mrange\u001b[39m(x0\u001b[38;5;241m.\u001b[39mshape[\u001b[38;5;241m0\u001b[39m]):\n\u001b[0;32m      9\u001b[0m         dx \u001b[38;5;241m=\u001b[39m np\u001b[38;5;241m.\u001b[39mzeros_like(x0)\n",
      "\u001b[1;31mTypeError\u001b[0m: evalf() takes 2 positional arguments but 4 were given"
     ]
    }
   ],
   "source": [
    "dt = [1e-1,1e-2,1e-3]\n",
    "t_final = 1\n",
    "L_list = np.linspace(0,1e-2,1000)\n",
    "\n",
    "S0 = 1 #initial supersaturation\n",
    "V0 = 1 #initial volume\n",
    "n0 = np.zeros_like(L_list) #initial population density distribution\n",
    "\n",
    "p = {\"L_list\" : L_list, #discretization bins\n",
    "     'E' :  1e-7, #evaporation rate\n",
    "     'rho' : 1200, # density of the crystal\n",
    "     'k_v' : 1, #goes in N_C, volumetric shape factor\n",
    "     'k_g' : 1e-3, #growth rate constant m/s\n",
    "     'g' : 1, #power constant for growth\n",
    "     'k_N' : 1e5, #nucleation rate constant \n",
    "     'alpha' :2, #power constant for nucleation\n",
    "     'Breakage': True, #toggle breakage for debug\n",
    "     'weno': False  # use weno or not for differentiation w.r.t. L\n",
    "     }\n",
    "\n",
    "p_expand = expand_params(p)\n",
    "\n",
    "#integrate the equations\n",
    "x0 = np.hstack([S0, V0, n0])\n",
    "\n",
    "\n",
    "for f in [euler,rk_integrator,simple_trap,simple_matrix_free_trap]:\n",
    "     error, t = dt_compare(x0, dt, p_expand, f, t_final)\n",
    "\n",
    "function_names = [\"Euler\", \"Range Kutta\", \"Trapezoidal\", \"Matrix Free Trapezoidal\"] \n",
    "\n",
    "for i in range(len(t)):\n",
    "     plt.plot(t[i],error[i],label=function_names[i])\n",
    "\n",
    "# Adding a horizontal dashed line at the accuracy we want,say y = 1e-4\n",
    "plt.axhline(y=1e-4, color='r', linestyle='--', label='Threshold (1e-4)')\n",
    "\n",
    "plt.legend()\n",
    "\n",
    "plt.title('Comparison of Numerical Methods')\n",
    "plt.xlabel('Computation Time')\n",
    "plt.ylabel('Error (against output with smallest time step)')\n",
    "plt.show()\n"
   ]
  },
  {
   "cell_type": "code",
   "execution_count": 4,
   "metadata": {},
   "outputs": [
    {
     "ename": "TypeError",
     "evalue": "evalf() takes 2 positional arguments but 4 were given",
     "output_type": "error",
     "traceback": [
      "\u001b[1;31m---------------------------------------------------------------------------\u001b[0m",
      "\u001b[1;31mTypeError\u001b[0m                                 Traceback (most recent call last)",
      "Cell \u001b[1;32mIn[4], line 23\u001b[0m\n\u001b[0;32m     21\u001b[0m \u001b[38;5;66;03m#integrate the equations\u001b[39;00m\n\u001b[0;32m     22\u001b[0m x \u001b[38;5;241m=\u001b[39m np\u001b[38;5;241m.\u001b[39mhstack([S0, V0, n0])\n\u001b[1;32m---> 23\u001b[0m x_t \u001b[38;5;241m=\u001b[39m \u001b[43modeint\u001b[49m\u001b[43m(\u001b[49m\u001b[43mevalf\u001b[49m\u001b[43m,\u001b[49m\u001b[43m \u001b[49m\u001b[43my0\u001b[49m\u001b[38;5;241;43m=\u001b[39;49m\u001b[43mx\u001b[49m\u001b[43m,\u001b[49m\u001b[43m \u001b[49m\u001b[43mt\u001b[49m\u001b[38;5;241;43m=\u001b[39;49m\u001b[43mtlist\u001b[49m\u001b[43m,\u001b[49m\u001b[43m \u001b[49m\u001b[43margs\u001b[49m\u001b[38;5;241;43m=\u001b[39;49m\u001b[43m(\u001b[49m\u001b[43mp\u001b[49m\u001b[43m,\u001b[49m\u001b[38;5;28;43;01mNone\u001b[39;49;00m\u001b[43m)\u001b[49m\u001b[43m)\u001b[49m\n\u001b[0;32m     26\u001b[0m \u001b[38;5;66;03m#plot results\u001b[39;00m\n\u001b[0;32m     27\u001b[0m n_t \u001b[38;5;241m=\u001b[39m x_t[:,\u001b[38;5;241m2\u001b[39m:]\n",
      "File \u001b[1;32m~\\AppData\\Local\\Packages\\PythonSoftwareFoundation.Python.3.11_qbz5n2kfra8p0\\LocalCache\\local-packages\\Python311\\site-packages\\scipy\\integrate\\_odepack_py.py:242\u001b[0m, in \u001b[0;36modeint\u001b[1;34m(func, y0, t, args, Dfun, col_deriv, full_output, ml, mu, rtol, atol, tcrit, h0, hmax, hmin, ixpr, mxstep, mxhnil, mxordn, mxords, printmessg, tfirst)\u001b[0m\n\u001b[0;32m    240\u001b[0m t \u001b[38;5;241m=\u001b[39m copy(t)\n\u001b[0;32m    241\u001b[0m y0 \u001b[38;5;241m=\u001b[39m copy(y0)\n\u001b[1;32m--> 242\u001b[0m output \u001b[38;5;241m=\u001b[39m \u001b[43m_odepack\u001b[49m\u001b[38;5;241;43m.\u001b[39;49m\u001b[43modeint\u001b[49m\u001b[43m(\u001b[49m\u001b[43mfunc\u001b[49m\u001b[43m,\u001b[49m\u001b[43m \u001b[49m\u001b[43my0\u001b[49m\u001b[43m,\u001b[49m\u001b[43m \u001b[49m\u001b[43mt\u001b[49m\u001b[43m,\u001b[49m\u001b[43m \u001b[49m\u001b[43margs\u001b[49m\u001b[43m,\u001b[49m\u001b[43m \u001b[49m\u001b[43mDfun\u001b[49m\u001b[43m,\u001b[49m\u001b[43m \u001b[49m\u001b[43mcol_deriv\u001b[49m\u001b[43m,\u001b[49m\u001b[43m \u001b[49m\u001b[43mml\u001b[49m\u001b[43m,\u001b[49m\u001b[43m \u001b[49m\u001b[43mmu\u001b[49m\u001b[43m,\u001b[49m\n\u001b[0;32m    243\u001b[0m \u001b[43m                         \u001b[49m\u001b[43mfull_output\u001b[49m\u001b[43m,\u001b[49m\u001b[43m \u001b[49m\u001b[43mrtol\u001b[49m\u001b[43m,\u001b[49m\u001b[43m \u001b[49m\u001b[43matol\u001b[49m\u001b[43m,\u001b[49m\u001b[43m \u001b[49m\u001b[43mtcrit\u001b[49m\u001b[43m,\u001b[49m\u001b[43m \u001b[49m\u001b[43mh0\u001b[49m\u001b[43m,\u001b[49m\u001b[43m \u001b[49m\u001b[43mhmax\u001b[49m\u001b[43m,\u001b[49m\u001b[43m \u001b[49m\u001b[43mhmin\u001b[49m\u001b[43m,\u001b[49m\n\u001b[0;32m    244\u001b[0m \u001b[43m                         \u001b[49m\u001b[43mixpr\u001b[49m\u001b[43m,\u001b[49m\u001b[43m \u001b[49m\u001b[43mmxstep\u001b[49m\u001b[43m,\u001b[49m\u001b[43m \u001b[49m\u001b[43mmxhnil\u001b[49m\u001b[43m,\u001b[49m\u001b[43m \u001b[49m\u001b[43mmxordn\u001b[49m\u001b[43m,\u001b[49m\u001b[43m \u001b[49m\u001b[43mmxords\u001b[49m\u001b[43m,\u001b[49m\n\u001b[0;32m    245\u001b[0m \u001b[43m                         \u001b[49m\u001b[38;5;28;43mint\u001b[39;49m\u001b[43m(\u001b[49m\u001b[38;5;28;43mbool\u001b[39;49m\u001b[43m(\u001b[49m\u001b[43mtfirst\u001b[49m\u001b[43m)\u001b[49m\u001b[43m)\u001b[49m\u001b[43m)\u001b[49m\n\u001b[0;32m    246\u001b[0m \u001b[38;5;28;01mif\u001b[39;00m output[\u001b[38;5;241m-\u001b[39m\u001b[38;5;241m1\u001b[39m] \u001b[38;5;241m<\u001b[39m \u001b[38;5;241m0\u001b[39m:\n\u001b[0;32m    247\u001b[0m     warning_msg \u001b[38;5;241m=\u001b[39m _msgs[output[\u001b[38;5;241m-\u001b[39m\u001b[38;5;241m1\u001b[39m]] \u001b[38;5;241m+\u001b[39m \u001b[38;5;124m\"\u001b[39m\u001b[38;5;124m Run with full_output = 1 to get quantitative information.\u001b[39m\u001b[38;5;124m\"\u001b[39m\n",
      "\u001b[1;31mTypeError\u001b[0m: evalf() takes 2 positional arguments but 4 were given"
     ]
    }
   ],
   "source": [
    "tlist = np.linspace(0,30,1000) \n",
    "\n",
    "\n",
    "S0 = 1 #initial supersaturation\n",
    "V0 = 1 #initial volume\n",
    "n0 = np.zeros_like(L_list) #initial population density distribution\n",
    "\n",
    "#parameters\n",
    "p = {\"L_list\" : L_list, #discretization bins\n",
    "     'E' :  1e-6, #evaporation rate (m^3/s)\n",
    "     'rho' : 1200, # density of the crystal\n",
    "     'k_v' : 1, #goes in N_C, volumetric shape factor\n",
    "     'k_g' : 1e-3, #growth rate constant m/s\n",
    "     'g' : 1, #power constant for growth\n",
    "     'k_N' : 1e3, #nucleation rate constant \n",
    "     'alpha' :2, #power constant for nucleation\n",
    "     'Breakage': True #toggle breakage for debug\n",
    "     }\n",
    "\n",
    "\n",
    "#integrate the equations\n",
    "x = np.hstack([S0, V0, n0])\n",
    "x_t = odeint(evalf, y0=x, t=tlist, args=(p,None))\n",
    "\n",
    "\n",
    "#plot results\n",
    "n_t = x_t[:,2:]\n",
    "better_imshow(L_list, tlist, n_t.T)\n",
    "plt.ylabel('L (particle size)')\n",
    "plt.xlabel('time')\n",
    "plt.colorbar()\n",
    "plt.show()\n",
    "\n",
    "plt.plot(tlist, x_t[:,0]) \n",
    "plt.title('supersaturation')\n",
    "plt.xlabel('t')\n",
    "plt.show()\n",
    "\n",
    "plt.plot(tlist, x_t[:,1]) \n",
    "plt.title('volume')\n",
    "plt.xlabel('t')"
   ]
  },
  {
   "cell_type": "code",
   "execution_count": null,
   "metadata": {},
   "outputs": [],
   "source": [
    "#linecuts\n",
    "\n",
    "n_t = x_t[:,2:]\n",
    "\n",
    "for t_ind in [0,50, 500, 1000]:\n",
    "    plt.plot(L_list*1e3, n_t[t_ind,:], label='t_ind = '+str(t_ind))\n",
    "    \n",
    "plt.xlabel('L (mm)')\n",
    "plt.title('linecuts of n(t)')\n",
    "plt.legend(frameon=False)"
   ]
  }
 ],
 "metadata": {
  "kernelspec": {
   "display_name": "Python 3",
   "language": "python",
   "name": "python3"
  },
  "language_info": {
   "codemirror_mode": {
    "name": "ipython",
    "version": 3
   },
   "file_extension": ".py",
   "mimetype": "text/x-python",
   "name": "python",
   "nbconvert_exporter": "python",
   "pygments_lexer": "ipython3",
   "version": "3.11.7"
  }
 },
 "nbformat": 4,
 "nbformat_minor": 2
}
