{
 "cells": [
  {
   "cell_type": "code",
   "execution_count": 2,
   "metadata": {},
   "outputs": [],
   "source": [
    "import numpy as np\n",
    "import matplotlib.pyplot as plt\n",
    "from evalf import evalf\n",
    "from dt_compare import dt_compare\n",
    "from scipy.integrate import odeint\n",
    "from simple_trap import simple_trap\n",
    "from simple_trap import simple_matrix_free_trap\n",
    "from euler import euler\n",
    "from trapezoidal import rk_integrator\n",
    "from trapezoidal import expand_params\n",
    "from deathrate import a\n",
    "from tqdm.notebook import tqdm\n",
    "%load_ext autoreload\n",
    "%autoreload 2\n",
    "\n",
    "\n",
    "def better_imshow(row_vals, col_vals, data, ax=None):\n",
    "    #row_vals and col_vals are the data that was swept over\n",
    "    assert len(row_vals) == data.shape[0], 'length of row_vals does not match shape of data'\n",
    "    assert len(col_vals) == data.shape[1], 'length of col_vals does not match shape of data'\n",
    "    if ax == None:\n",
    "        plt.imshow(data, origin='lower', extent=[col_vals[0], col_vals[-1], row_vals[0], row_vals[-1]], aspect='auto')\n",
    "    else:\n",
    "        ax.imshow(data, origin='lower', extent=[col_vals[0], col_vals[-1], row_vals[0], row_vals[-1]], aspect='auto')"
   ]
  },
  {
   "cell_type": "code",
   "execution_count": 3,
   "metadata": {},
   "outputs": [
    {
     "name": "stdout",
     "output_type": "stream",
     "text": [
      "Errors for different time discretizations are: [0.045895479052940724, 0.01932251185017952, 0.0007938372628671067]\n",
      "Time taken for different time discretizations are: <module 'time' (built-in)>\n"
     ]
    },
    {
     "data": {
      "application/vnd.jupyter.widget-view+json": {
       "model_id": "8d8d4e9b8f8346f7a9ce0b2c11c505b6",
       "version_major": 2,
       "version_minor": 0
      },
      "text/plain": [
       "  0%|          | 0/2000 [00:00<?, ?it/s]"
      ]
     },
     "metadata": {},
     "output_type": "display_data"
    },
    {
     "data": {
      "application/vnd.jupyter.widget-view+json": {
       "model_id": "ebfa442062f24c3d8fc4734e4510f75e",
       "version_major": 2,
       "version_minor": 0
      },
      "text/plain": [
       "  0%|          | 0/100 [00:00<?, ?it/s]"
      ]
     },
     "metadata": {},
     "output_type": "display_data"
    },
    {
     "data": {
      "application/vnd.jupyter.widget-view+json": {
       "model_id": "0e68e2d096724968b240b7a6cce14387",
       "version_major": 2,
       "version_minor": 0
      },
      "text/plain": [
       "  0%|          | 0/200 [00:00<?, ?it/s]"
      ]
     },
     "metadata": {},
     "output_type": "display_data"
    },
    {
     "data": {
      "application/vnd.jupyter.widget-view+json": {
       "model_id": "682a9a27de71483b8c11ed73c7ea4a0f",
       "version_major": 2,
       "version_minor": 0
      },
      "text/plain": [
       "  0%|          | 0/1000 [00:00<?, ?it/s]"
      ]
     },
     "metadata": {},
     "output_type": "display_data"
    },
    {
     "name": "stdout",
     "output_type": "stream",
     "text": [
      "Errors for different time discretizations are: [0.008050200011452558, 0.0043094011865327285, 0.0020030199058845553]\n",
      "Time taken for different time discretizations are: <module 'time' (built-in)>\n"
     ]
    }
   ],
   "source": [
    "dt = [1e-3, 5e-4, 1e-4, 5e-5]\n",
    "t_final = 0.1\n",
    "L_list = np.linspace(0,1e-3, 1000)\n",
    "\n",
    "S0 = 1 #initial supersaturation\n",
    "V0 = 1 #initial volume\n",
    "n0 = np.zeros_like(L_list) #initial population density distribution\n",
    "\n",
    "p = {\"L_list\" : L_list, #discretization bins\n",
    "     'E' :  1e-7, #evaporation rate\n",
    "     'rho' : 1200, # density of the crystal\n",
    "     'k_v' : 1, #goes in N_C, volumetric shape factor\n",
    "     'k_g' : 1e-3, #growth rate constant m/s\n",
    "     'g' : 1, #power constant for growth\n",
    "     'k_N' : 1e5, #nucleation rate constant \n",
    "     'alpha' :2, #power constant for nucleation\n",
    "     'Breakage': True, #toggle breakage for debug\n",
    "     'weno': False  # use weno or not for differentiation w.r.t. L\n",
    "     }\n",
    "\n",
    "p_expand = expand_params(p)\n",
    "\n",
    "#integrate the equations\n",
    "x0 = np.hstack([S0, V0, n0])\n",
    "for f in [euler, rk_integrator]:\n",
    "     error, t = dt_compare(x0, dt, p_expand, f, t_final)\n"
   ]
  },
  {
   "cell_type": "code",
   "execution_count": 4,
   "metadata": {},
   "outputs": [
    {
     "ename": "TypeError",
     "evalue": "evalf() takes 2 positional arguments but 4 were given",
     "output_type": "error",
     "traceback": [
      "\u001b[1;31m---------------------------------------------------------------------------\u001b[0m",
      "\u001b[1;31mTypeError\u001b[0m                                 Traceback (most recent call last)",
      "Cell \u001b[1;32mIn[4], line 23\u001b[0m\n\u001b[0;32m     21\u001b[0m \u001b[38;5;66;03m#integrate the equations\u001b[39;00m\n\u001b[0;32m     22\u001b[0m x \u001b[38;5;241m=\u001b[39m np\u001b[38;5;241m.\u001b[39mhstack([S0, V0, n0])\n\u001b[1;32m---> 23\u001b[0m x_t \u001b[38;5;241m=\u001b[39m \u001b[43modeint\u001b[49m\u001b[43m(\u001b[49m\u001b[43mevalf\u001b[49m\u001b[43m,\u001b[49m\u001b[43m \u001b[49m\u001b[43my0\u001b[49m\u001b[38;5;241;43m=\u001b[39;49m\u001b[43mx\u001b[49m\u001b[43m,\u001b[49m\u001b[43m \u001b[49m\u001b[43mt\u001b[49m\u001b[38;5;241;43m=\u001b[39;49m\u001b[43mtlist\u001b[49m\u001b[43m,\u001b[49m\u001b[43m \u001b[49m\u001b[43margs\u001b[49m\u001b[38;5;241;43m=\u001b[39;49m\u001b[43m(\u001b[49m\u001b[43mp\u001b[49m\u001b[43m,\u001b[49m\u001b[38;5;28;43;01mNone\u001b[39;49;00m\u001b[43m)\u001b[49m\u001b[43m)\u001b[49m\n\u001b[0;32m     26\u001b[0m \u001b[38;5;66;03m#plot results\u001b[39;00m\n\u001b[0;32m     27\u001b[0m n_t \u001b[38;5;241m=\u001b[39m x_t[:,\u001b[38;5;241m2\u001b[39m:]\n",
      "File \u001b[1;32m~\\AppData\\Local\\Packages\\PythonSoftwareFoundation.Python.3.11_qbz5n2kfra8p0\\LocalCache\\local-packages\\Python311\\site-packages\\scipy\\integrate\\_odepack_py.py:242\u001b[0m, in \u001b[0;36modeint\u001b[1;34m(func, y0, t, args, Dfun, col_deriv, full_output, ml, mu, rtol, atol, tcrit, h0, hmax, hmin, ixpr, mxstep, mxhnil, mxordn, mxords, printmessg, tfirst)\u001b[0m\n\u001b[0;32m    240\u001b[0m t \u001b[38;5;241m=\u001b[39m copy(t)\n\u001b[0;32m    241\u001b[0m y0 \u001b[38;5;241m=\u001b[39m copy(y0)\n\u001b[1;32m--> 242\u001b[0m output \u001b[38;5;241m=\u001b[39m \u001b[43m_odepack\u001b[49m\u001b[38;5;241;43m.\u001b[39;49m\u001b[43modeint\u001b[49m\u001b[43m(\u001b[49m\u001b[43mfunc\u001b[49m\u001b[43m,\u001b[49m\u001b[43m \u001b[49m\u001b[43my0\u001b[49m\u001b[43m,\u001b[49m\u001b[43m \u001b[49m\u001b[43mt\u001b[49m\u001b[43m,\u001b[49m\u001b[43m \u001b[49m\u001b[43margs\u001b[49m\u001b[43m,\u001b[49m\u001b[43m \u001b[49m\u001b[43mDfun\u001b[49m\u001b[43m,\u001b[49m\u001b[43m \u001b[49m\u001b[43mcol_deriv\u001b[49m\u001b[43m,\u001b[49m\u001b[43m \u001b[49m\u001b[43mml\u001b[49m\u001b[43m,\u001b[49m\u001b[43m \u001b[49m\u001b[43mmu\u001b[49m\u001b[43m,\u001b[49m\n\u001b[0;32m    243\u001b[0m \u001b[43m                         \u001b[49m\u001b[43mfull_output\u001b[49m\u001b[43m,\u001b[49m\u001b[43m \u001b[49m\u001b[43mrtol\u001b[49m\u001b[43m,\u001b[49m\u001b[43m \u001b[49m\u001b[43matol\u001b[49m\u001b[43m,\u001b[49m\u001b[43m \u001b[49m\u001b[43mtcrit\u001b[49m\u001b[43m,\u001b[49m\u001b[43m \u001b[49m\u001b[43mh0\u001b[49m\u001b[43m,\u001b[49m\u001b[43m \u001b[49m\u001b[43mhmax\u001b[49m\u001b[43m,\u001b[49m\u001b[43m \u001b[49m\u001b[43mhmin\u001b[49m\u001b[43m,\u001b[49m\n\u001b[0;32m    244\u001b[0m \u001b[43m                         \u001b[49m\u001b[43mixpr\u001b[49m\u001b[43m,\u001b[49m\u001b[43m \u001b[49m\u001b[43mmxstep\u001b[49m\u001b[43m,\u001b[49m\u001b[43m \u001b[49m\u001b[43mmxhnil\u001b[49m\u001b[43m,\u001b[49m\u001b[43m \u001b[49m\u001b[43mmxordn\u001b[49m\u001b[43m,\u001b[49m\u001b[43m \u001b[49m\u001b[43mmxords\u001b[49m\u001b[43m,\u001b[49m\n\u001b[0;32m    245\u001b[0m \u001b[43m                         \u001b[49m\u001b[38;5;28;43mint\u001b[39;49m\u001b[43m(\u001b[49m\u001b[38;5;28;43mbool\u001b[39;49m\u001b[43m(\u001b[49m\u001b[43mtfirst\u001b[49m\u001b[43m)\u001b[49m\u001b[43m)\u001b[49m\u001b[43m)\u001b[49m\n\u001b[0;32m    246\u001b[0m \u001b[38;5;28;01mif\u001b[39;00m output[\u001b[38;5;241m-\u001b[39m\u001b[38;5;241m1\u001b[39m] \u001b[38;5;241m<\u001b[39m \u001b[38;5;241m0\u001b[39m:\n\u001b[0;32m    247\u001b[0m     warning_msg \u001b[38;5;241m=\u001b[39m _msgs[output[\u001b[38;5;241m-\u001b[39m\u001b[38;5;241m1\u001b[39m]] \u001b[38;5;241m+\u001b[39m \u001b[38;5;124m\"\u001b[39m\u001b[38;5;124m Run with full_output = 1 to get quantitative information.\u001b[39m\u001b[38;5;124m\"\u001b[39m\n",
      "\u001b[1;31mTypeError\u001b[0m: evalf() takes 2 positional arguments but 4 were given"
     ]
    }
   ],
   "source": [
    "tlist = np.linspace(0,30,1000) \n",
    "\n",
    "\n",
    "S0 = 1 #initial supersaturation\n",
    "V0 = 1 #initial volume\n",
    "n0 = np.zeros_like(L_list) #initial population density distribution\n",
    "\n",
    "#parameters\n",
    "p = {\"L_list\" : L_list, #discretization bins\n",
    "     'E' :  1e-6, #evaporation rate (m^3/s)\n",
    "     'rho' : 1200, # density of the crystal\n",
    "     'k_v' : 1, #goes in N_C, volumetric shape factor\n",
    "     'k_g' : 1e-3, #growth rate constant m/s\n",
    "     'g' : 1, #power constant for growth\n",
    "     'k_N' : 1e3, #nucleation rate constant \n",
    "     'alpha' :2, #power constant for nucleation\n",
    "     'Breakage': True #toggle breakage for debug\n",
    "     }\n",
    "\n",
    "\n",
    "#integrate the equations\n",
    "x = np.hstack([S0, V0, n0])\n",
    "x_t = odeint(evalf, y0=x, t=tlist, args=(p,None))\n",
    "\n",
    "\n",
    "#plot results\n",
    "n_t = x_t[:,2:]\n",
    "better_imshow(L_list, tlist, n_t.T)\n",
    "plt.ylabel('L (particle size)')\n",
    "plt.xlabel('time')\n",
    "plt.colorbar()\n",
    "plt.show()\n",
    "\n",
    "plt.plot(tlist, x_t[:,0]) \n",
    "plt.title('supersaturation')\n",
    "plt.xlabel('t')\n",
    "plt.show()\n",
    "\n",
    "plt.plot(tlist, x_t[:,1]) \n",
    "plt.title('volume')\n",
    "plt.xlabel('t')"
   ]
  },
  {
   "cell_type": "code",
   "execution_count": null,
   "metadata": {},
   "outputs": [],
   "source": [
    "#linecuts\n",
    "\n",
    "n_t = x_t[:,2:]\n",
    "\n",
    "for t_ind in [0,50, 500, 1000]:\n",
    "    plt.plot(L_list*1e3, n_t[t_ind,:], label='t_ind = '+str(t_ind))\n",
    "    \n",
    "plt.xlabel('L (mm)')\n",
    "plt.title('linecuts of n(t)')\n",
    "plt.legend(frameon=False)"
   ]
  }
 ],
 "metadata": {
  "kernelspec": {
   "display_name": "Python 3",
   "language": "python",
   "name": "python3"
  },
  "language_info": {
   "codemirror_mode": {
    "name": "ipython",
    "version": 3
   },
   "file_extension": ".py",
   "mimetype": "text/x-python",
   "name": "python",
   "nbconvert_exporter": "python",
   "pygments_lexer": "ipython3",
   "version": "3.11.7"
  }
 },
 "nbformat": 4,
 "nbformat_minor": 2
}
