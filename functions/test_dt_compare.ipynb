{
 "cells": [
  {
   "cell_type": "code",
   "execution_count": 1,
   "metadata": {},
   "outputs": [],
   "source": [
    "import numpy as np\n",
    "import matplotlib.pyplot as plt\n",
    "from evalf import evalf\n",
    "from dt_compare import dt_compare\n",
    "from scipy.integrate import odeint\n",
    "from simple_trap import simple_trap\n",
    "from simple_trap import simple_matrix_free_trap\n",
    "from euler import euler\n",
    "from trapezoidal import rk_integrator\n",
    "from trapezoidal import expand_params\n",
    "from deathrate import a\n",
    "%load_ext autoreload\n",
    "%autoreload 2\n",
    "\n",
    "\n",
    "def better_imshow(row_vals, col_vals, data, ax=None):\n",
    "    #row_vals and col_vals are the data that was swept over\n",
    "    assert len(row_vals) == data.shape[0], 'length of row_vals does not match shape of data'\n",
    "    assert len(col_vals) == data.shape[1], 'length of col_vals does not match shape of data'\n",
    "    if ax == None:\n",
    "        plt.imshow(data, origin='lower', extent=[col_vals[0], col_vals[-1], row_vals[0], row_vals[-1]], aspect='auto')\n",
    "    else:\n",
    "        ax.imshow(data, origin='lower', extent=[col_vals[0], col_vals[-1], row_vals[0], row_vals[-1]], aspect='auto')"
   ]
  },
  {
   "cell_type": "code",
   "execution_count": 2,
   "metadata": {},
   "outputs": [
    {
     "name": "stdout",
     "output_type": "stream",
     "text": [
      "Errors for different time discretizations are: [0.04589547905294074, 0.019322511850179514, 0.0007938372628671066]\n",
      "Time taken for different time discretizations are: <module 'time' (built-in)>\n"
     ]
    },
    {
     "data": {
      "application/vnd.jupyter.widget-view+json": {
       "model_id": "e00e6a46dbd34e97b6f0a1073f11919a",
       "version_major": 2,
       "version_minor": 0
      },
      "text/plain": [
       "  0%|          | 0/2000 [00:00<?, ?it/s]"
      ]
     },
     "metadata": {},
     "output_type": "display_data"
    },
    {
     "data": {
      "application/vnd.jupyter.widget-view+json": {
       "model_id": "ca6f1edf59454460aad7dc0195237849",
       "version_major": 2,
       "version_minor": 0
      },
      "text/plain": [
       "  0%|          | 0/100 [00:00<?, ?it/s]"
      ]
     },
     "metadata": {},
     "output_type": "display_data"
    },
    {
     "data": {
      "application/vnd.jupyter.widget-view+json": {
       "model_id": "19cb5fe2e27b4dc58143b5d1fb841ccb",
       "version_major": 2,
       "version_minor": 0
      },
      "text/plain": [
       "  0%|          | 0/200 [00:00<?, ?it/s]"
      ]
     },
     "metadata": {},
     "output_type": "display_data"
    },
    {
     "data": {
      "application/vnd.jupyter.widget-view+json": {
       "model_id": "0672962a5fe04400a96bb062b82504f2",
       "version_major": 2,
       "version_minor": 0
      },
      "text/plain": [
       "  0%|          | 0/1000 [00:00<?, ?it/s]"
      ]
     },
     "metadata": {},
     "output_type": "display_data"
    },
    {
     "name": "stdout",
     "output_type": "stream",
     "text": [
      "Errors for different time discretizations are: [0.008050200011452551, 0.0043094011865327285, 0.002003019905884553]\n",
      "Time taken for different time discretizations are: <module 'time' (built-in)>\n"
     ]
    }
   ],
   "source": [
    "dt = [1e-3, 5e-4, 1e-4, 5e-5]\n",
    "t_final = 0.1\n",
    "L_list = np.linspace(0,1e-3, 1000)\n",
    "\n",
    "S0 = 1 #initial supersaturation\n",
    "V0 = 1 #initial volume\n",
    "n0 = np.zeros_like(L_list) #initial population density distribution\n",
    "\n",
    "p = {\"L_list\" : L_list, #discretization bins\n",
    "     'E' :  1e-7, #evaporation rate\n",
    "     'rho' : 1200, # density of the crystal\n",
    "     'k_v' : 1, #goes in N_C, volumetric shape factor\n",
    "     'k_g' : 1e-3, #growth rate constant m/s\n",
    "     'g' : 1, #power constant for growth\n",
    "     'k_N' : 1e5, #nucleation rate constant \n",
    "     'alpha' :2, #power constant for nucleation\n",
    "     'Breakage': True, #toggle breakage for debug\n",
    "     'weno': False  # use weno or not for differentiation w.r.t. L\n",
    "     }\n",
    "\n",
    "p_expand = expand_params(p)\n",
    "\n",
    "#integrate the equations\n",
    "x0 = np.hstack([S0, V0, n0])\n",
    "for f in [euler, rk_integrator]:\n",
    "     error, t = dt_compare(x0, dt, p_expand, f, t_final)\n"
   ]
  },
  {
   "cell_type": "code",
   "execution_count": 6,
   "metadata": {},
   "outputs": [
    {
     "name": "stdout",
     "output_type": "stream",
     "text": [
      "[0.008050200011452551, 0.0043094011865327285, 0.002003019905884553]\n",
      "[2.006974220275879, 3.925609827041626, 21.11407208442688]\n"
     ]
    }
   ],
   "source": [
    "print(error)\n",
    "print(t)"
   ]
  },
  {
   "cell_type": "code",
   "execution_count": 4,
   "metadata": {},
   "outputs": [
    {
     "ename": "TypeError",
     "evalue": "evalf() takes 2 positional arguments but 4 were given",
     "output_type": "error",
     "traceback": [
      "\u001b[0;31m---------------------------------------------------------------------------\u001b[0m",
      "\u001b[0;31mTypeError\u001b[0m                                 Traceback (most recent call last)",
      "\u001b[1;32m/Users/hannahgold/Desktop/MIT2023-2024/6.7300 Modelling and Simulation/crystalPBM/functions/test_dt_compare.ipynb Cell 3\u001b[0m line \u001b[0;36m2\n\u001b[1;32m     <a href='vscode-notebook-cell:/Users/hannahgold/Desktop/MIT2023-2024/6.7300%20Modelling%20and%20Simulation/crystalPBM/functions/test_dt_compare.ipynb#W2sZmlsZQ%3D%3D?line=20'>21</a>\u001b[0m \u001b[39m#integrate the equations\u001b[39;00m\n\u001b[1;32m     <a href='vscode-notebook-cell:/Users/hannahgold/Desktop/MIT2023-2024/6.7300%20Modelling%20and%20Simulation/crystalPBM/functions/test_dt_compare.ipynb#W2sZmlsZQ%3D%3D?line=21'>22</a>\u001b[0m x \u001b[39m=\u001b[39m np\u001b[39m.\u001b[39mhstack([S0, V0, n0])\n\u001b[0;32m---> <a href='vscode-notebook-cell:/Users/hannahgold/Desktop/MIT2023-2024/6.7300%20Modelling%20and%20Simulation/crystalPBM/functions/test_dt_compare.ipynb#W2sZmlsZQ%3D%3D?line=22'>23</a>\u001b[0m x_t \u001b[39m=\u001b[39m odeint(evalf, y0\u001b[39m=\u001b[39mx, t\u001b[39m=\u001b[39mtlist, args\u001b[39m=\u001b[39m(p,\u001b[39mNone\u001b[39;00m))\n\u001b[1;32m     <a href='vscode-notebook-cell:/Users/hannahgold/Desktop/MIT2023-2024/6.7300%20Modelling%20and%20Simulation/crystalPBM/functions/test_dt_compare.ipynb#W2sZmlsZQ%3D%3D?line=25'>26</a>\u001b[0m \u001b[39m#plot results\u001b[39;00m\n\u001b[1;32m     <a href='vscode-notebook-cell:/Users/hannahgold/Desktop/MIT2023-2024/6.7300%20Modelling%20and%20Simulation/crystalPBM/functions/test_dt_compare.ipynb#W2sZmlsZQ%3D%3D?line=26'>27</a>\u001b[0m n_t \u001b[39m=\u001b[39m x_t[:,\u001b[39m2\u001b[39m:]\n",
      "File \u001b[0;32m~/anaconda3/lib/python3.11/site-packages/scipy/integrate/_odepack_py.py:242\u001b[0m, in \u001b[0;36modeint\u001b[0;34m(func, y0, t, args, Dfun, col_deriv, full_output, ml, mu, rtol, atol, tcrit, h0, hmax, hmin, ixpr, mxstep, mxhnil, mxordn, mxords, printmessg, tfirst)\u001b[0m\n\u001b[1;32m    240\u001b[0m t \u001b[39m=\u001b[39m copy(t)\n\u001b[1;32m    241\u001b[0m y0 \u001b[39m=\u001b[39m copy(y0)\n\u001b[0;32m--> 242\u001b[0m output \u001b[39m=\u001b[39m _odepack\u001b[39m.\u001b[39modeint(func, y0, t, args, Dfun, col_deriv, ml, mu,\n\u001b[1;32m    243\u001b[0m                          full_output, rtol, atol, tcrit, h0, hmax, hmin,\n\u001b[1;32m    244\u001b[0m                          ixpr, mxstep, mxhnil, mxordn, mxords,\n\u001b[1;32m    245\u001b[0m                          \u001b[39mint\u001b[39m(\u001b[39mbool\u001b[39m(tfirst)))\n\u001b[1;32m    246\u001b[0m \u001b[39mif\u001b[39;00m output[\u001b[39m-\u001b[39m\u001b[39m1\u001b[39m] \u001b[39m<\u001b[39m \u001b[39m0\u001b[39m:\n\u001b[1;32m    247\u001b[0m     warning_msg \u001b[39m=\u001b[39m _msgs[output[\u001b[39m-\u001b[39m\u001b[39m1\u001b[39m]] \u001b[39m+\u001b[39m \u001b[39m\"\u001b[39m\u001b[39m Run with full_output = 1 to get quantitative information.\u001b[39m\u001b[39m\"\u001b[39m\n",
      "\u001b[0;31mTypeError\u001b[0m: evalf() takes 2 positional arguments but 4 were given"
     ]
    }
   ],
   "source": [
    "tlist = np.linspace(0,30,1000) \n",
    "\n",
    "\n",
    "S0 = 1 #initial supersaturation\n",
    "V0 = 1 #initial volume\n",
    "n0 = np.zeros_like(L_list) #initial population density distribution\n",
    "\n",
    "#parameters\n",
    "p = {\"L_list\" : L_list, #discretization bins\n",
    "     'E' :  1e-6, #evaporation rate (m^3/s)\n",
    "     'rho' : 1200, # density of the crystal\n",
    "     'k_v' : 1, #goes in N_C, volumetric shape factor\n",
    "     'k_g' : 1e-3, #growth rate constant m/s\n",
    "     'g' : 1, #power constant for growth\n",
    "     'k_N' : 1e3, #nucleation rate constant \n",
    "     'alpha' :2, #power constant for nucleation\n",
    "     'Breakage': True #toggle breakage for debug\n",
    "     }\n",
    "\n",
    "\n",
    "#integrate the equations\n",
    "x = np.hstack([S0, V0, n0])\n",
    "x_t = odeint(evalf, y0=x, t=tlist, args=(p,None))\n",
    "\n",
    "\n",
    "#plot results\n",
    "n_t = x_t[:,2:]\n",
    "better_imshow(L_list, tlist, n_t.T)\n",
    "plt.ylabel('L (particle size)')\n",
    "plt.xlabel('time')\n",
    "plt.colorbar()\n",
    "plt.show()\n",
    "\n",
    "plt.plot(tlist, x_t[:,0]) \n",
    "plt.title('supersaturation')\n",
    "plt.xlabel('t')\n",
    "plt.show()\n",
    "\n",
    "plt.plot(tlist, x_t[:,1]) \n",
    "plt.title('volume')\n",
    "plt.xlabel('t')"
   ]
  },
  {
   "cell_type": "code",
   "execution_count": null,
   "metadata": {},
   "outputs": [],
   "source": [
    "#linecuts\n",
    "\n",
    "n_t = x_t[:,2:]\n",
    "\n",
    "for t_ind in [0,50, 500, 1000]:\n",
    "    plt.plot(L_list*1e3, n_t[t_ind,:], label='t_ind = '+str(t_ind))\n",
    "    \n",
    "plt.xlabel('L (mm)')\n",
    "plt.title('linecuts of n(t)')\n",
    "plt.legend(frameon=False)"
   ]
  }
 ],
 "metadata": {
  "kernelspec": {
   "display_name": "Python 3",
   "language": "python",
   "name": "python3"
  },
  "language_info": {
   "codemirror_mode": {
    "name": "ipython",
    "version": 3
   },
   "file_extension": ".py",
   "mimetype": "text/x-python",
   "name": "python",
   "nbconvert_exporter": "python",
   "pygments_lexer": "ipython3",
   "version": "3.11.5"
  }
 },
 "nbformat": 4,
 "nbformat_minor": 2
}
