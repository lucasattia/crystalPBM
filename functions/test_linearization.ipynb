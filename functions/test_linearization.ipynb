{
 "cells": [
  {
   "cell_type": "code",
   "execution_count": 1,
   "metadata": {},
   "outputs": [],
   "source": [
    "import numpy as np\n",
    "import matplotlib.pyplot as plt\n",
    "from evalf import evalf\n",
    "from jacobian import calc_jac\n",
    "from linearize import eval_linearized_f\n",
    "\n",
    "from scipy.integrate import odeint\n",
    "\n",
    "%load_ext autoreload\n",
    "%autoreload 2\n"
   ]
  },
  {
   "cell_type": "code",
   "execution_count": 18,
   "metadata": {},
   "outputs": [
    {
     "ename": "KeyError",
     "evalue": "'L_list'",
     "output_type": "error",
     "traceback": [
      "\u001b[1;31m---------------------------------------------------------------------------\u001b[0m",
      "\u001b[1;31mKeyError\u001b[0m                                  Traceback (most recent call last)",
      "\u001b[1;32mc:\\Users\\jerem\\GitHub\\crystalPBM\\functions\\test_linearization.ipynb Cell 2\u001b[0m line \u001b[0;36m<cell line: 45>\u001b[1;34m()\u001b[0m\n\u001b[0;32m     <a href='vscode-notebook-cell:/c%3A/Users/jerem/GitHub/crystalPBM/functions/test_linearization.ipynb#W1sZmlsZQ%3D%3D?line=29'>30</a>\u001b[0m p \u001b[39m=\u001b[39m {\u001b[39m'\u001b[39m\u001b[39mL_list\u001b[39m\u001b[39m'\u001b[39m : L_list, \u001b[39m#discretization bins\u001b[39;00m\n\u001b[0;32m     <a href='vscode-notebook-cell:/c%3A/Users/jerem/GitHub/crystalPBM/functions/test_linearization.ipynb#W1sZmlsZQ%3D%3D?line=30'>31</a>\u001b[0m      \u001b[39m'\u001b[39m\u001b[39mE\u001b[39m\u001b[39m'\u001b[39m :  \u001b[39m1\u001b[39m, \u001b[39m#evaporation rate\u001b[39;00m\n\u001b[0;32m     <a href='vscode-notebook-cell:/c%3A/Users/jerem/GitHub/crystalPBM/functions/test_linearization.ipynb#W1sZmlsZQ%3D%3D?line=31'>32</a>\u001b[0m      \u001b[39m'\u001b[39m\u001b[39mrho\u001b[39m\u001b[39m'\u001b[39m : \u001b[39m1\u001b[39m, \u001b[39m# density of the crystal\u001b[39;00m\n\u001b[1;32m   (...)\u001b[0m\n\u001b[0;32m     <a href='vscode-notebook-cell:/c%3A/Users/jerem/GitHub/crystalPBM/functions/test_linearization.ipynb#W1sZmlsZQ%3D%3D?line=37'>38</a>\u001b[0m      \u001b[39m'\u001b[39m\u001b[39mBreakage\u001b[39m\u001b[39m'\u001b[39m: \u001b[39mTrue\u001b[39;00m\n\u001b[0;32m     <a href='vscode-notebook-cell:/c%3A/Users/jerem/GitHub/crystalPBM/functions/test_linearization.ipynb#W1sZmlsZQ%3D%3D?line=38'>39</a>\u001b[0m      }\n\u001b[0;32m     <a href='vscode-notebook-cell:/c%3A/Users/jerem/GitHub/crystalPBM/functions/test_linearization.ipynb#W1sZmlsZQ%3D%3D?line=41'>42</a>\u001b[0m x \u001b[39m=\u001b[39m np\u001b[39m.\u001b[39mhstack([S0, V0, n0])\n\u001b[1;32m---> <a href='vscode-notebook-cell:/c%3A/Users/jerem/GitHub/crystalPBM/functions/test_linearization.ipynb#W1sZmlsZQ%3D%3D?line=44'>45</a>\u001b[0m dxdt, dfdp \u001b[39m=\u001b[39m eval_linearized_f(x,p,x0,p0)\n",
      "File \u001b[1;32mc:\\Users\\jerem\\GitHub\\crystalPBM\\functions\\linearize.py:28\u001b[0m, in \u001b[0;36meval_linearized_f\u001b[1;34m(x, p, x0, p0, eps)\u001b[0m\n\u001b[0;32m     26\u001b[0m     \u001b[39mif\u001b[39;00m k \u001b[39m==\u001b[39m [\u001b[39m'\u001b[39m\u001b[39mL_list\u001b[39m\u001b[39m'\u001b[39m, \u001b[39m'\u001b[39m\u001b[39mBreakage\u001b[39m\u001b[39m'\u001b[39m]:\n\u001b[0;32m     27\u001b[0m         \u001b[39mcontinue\u001b[39;00m\n\u001b[1;32m---> 28\u001b[0m     dxdt \u001b[39m+\u001b[39m\u001b[39m=\u001b[39m df_dp[k]\u001b[39m*\u001b[39m(p[k] \u001b[39m-\u001b[39m p0[k])\n\u001b[0;32m     30\u001b[0m \u001b[39mreturn\u001b[39;00m dxdt, df_dp\n",
      "\u001b[1;31mKeyError\u001b[0m: 'L_list'"
     ]
    }
   ],
   "source": [
    "L_list = np.linspace(0,1, 100)\n",
    "\n",
    "\n",
    "# state and E to linearize around\n",
    "S0 = 1 #initial supersaturation\n",
    "V0 = 1 #initial volume\n",
    "n0 = np.zeros_like(L_list) #initial population density distribution\n",
    "\n",
    "p0 = {'L_list' : L_list, #discretization bins\n",
    "     'E' :  1, #evaporation rate\n",
    "     'rho' : 1, # density of the crystal\n",
    "     'k_v' : 1, #goes in N_C, volumetric shape factor\n",
    "     'k_g' : 1, #growth rate constant m/s\n",
    "     'g' : 3, #power constant for growth\n",
    "     'k_N' : 1, #nucleation rate constant \n",
    "     'alpha' :5, #power constant for nucleation \n",
    "     'Breakage': True\n",
    "     }\n",
    "\n",
    "\n",
    "x0 = np.hstack([S0, V0, n0])\n",
    "\n",
    "\n",
    "#state and E to eval at \n",
    "\n",
    "S = 1 #initial supersaturation\n",
    "V = 1 #initial volume\n",
    "n = np.zeros_like(L_list) #initial population density distribution\n",
    "\n",
    "p = {'L_list' : L_list, #discretization bins\n",
    "     'E' :  1, #evaporation rate\n",
    "     'rho' : 1, # density of the crystal\n",
    "     'k_v' : 1, #goes in N_C, volumetric shape factor\n",
    "     'k_g' : 1, #growth rate constant m/s\n",
    "     'g' : 3, #power constant for growth\n",
    "     'k_N' : 1, #nucleation rate constant \n",
    "     'alpha' :5, #power constant for nucleation \n",
    "     'Breakage': True\n",
    "     }\n",
    "\n",
    "\n",
    "x = np.hstack([S0, V0, n0])\n",
    "\n",
    "\n",
    "dxdt, dfdp = eval_linearized_f(x,p,x0,p0)"
   ]
  },
  {
   "cell_type": "code",
   "execution_count": null,
   "metadata": {},
   "outputs": [],
   "source": [
    "#compare time integrated solution with linearized version and original verision\n",
    "\n",
    "\n",
    "#also look at dfdp for different parameters, get a sense of of sensistivity"
   ]
  }
 ],
 "metadata": {
  "kernelspec": {
   "display_name": "quarton",
   "language": "python",
   "name": "python3"
  },
  "language_info": {
   "codemirror_mode": {
    "name": "ipython",
    "version": 3
   },
   "file_extension": ".py",
   "mimetype": "text/x-python",
   "name": "python",
   "nbconvert_exporter": "python",
   "pygments_lexer": "ipython3",
   "version": "3.9.13"
  }
 },
 "nbformat": 4,
 "nbformat_minor": 2
}
