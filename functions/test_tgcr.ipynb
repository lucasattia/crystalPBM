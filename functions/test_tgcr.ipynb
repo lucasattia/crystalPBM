{
 "cells": [
  {
   "cell_type": "code",
   "execution_count": 1,
   "metadata": {},
   "outputs": [],
   "source": [
    "import numpy as np\n",
    "from tgcr_matrixfree import tgcr_MatrixFree\n",
    "\n",
    "%load_ext autoreload\n",
    "%autoreload 2"
   ]
  },
  {
   "cell_type": "code",
   "execution_count": 10,
   "metadata": {},
   "outputs": [],
   "source": [
    "N = 5  # num variables\n",
    "\n",
    "A = np.random.rand(N,N)\n",
    "\n",
    "\n",
    "def f(x, _=None):\n",
    "    return A@x\n",
    "\n",
    "\n",
    "xf = np.random.rand(N)\n",
    "b = np.random.rand(N)"
   ]
  },
  {
   "cell_type": "code",
   "execution_count": 43,
   "metadata": {},
   "outputs": [
    {
     "name": "stdout",
     "output_type": "stream",
     "text": [
      "GCR converged\n"
     ]
    },
    {
     "data": {
      "text/plain": [
       "array([-0.11689441, -0.6834019 ,  0.00324286,  0.26350379,  0.67071065])"
      ]
     },
     "execution_count": 43,
     "metadata": {},
     "output_type": "execute_result"
    }
   ],
   "source": [
    "x, _ = tgcr_MatrixFree(f, xf, pf=None, b=b, tolrGCR=1e-10, MaxItersGCR=300, epsMF=1e-4)\n",
    "\n",
    "x/np.linalg.norm(x)"
   ]
  },
  {
   "cell_type": "code",
   "execution_count": 23,
   "metadata": {},
   "outputs": [
    {
     "data": {
      "text/plain": [
       "array([-0.11689441, -0.6834019 ,  0.00324286,  0.26350379,  0.67071065])"
      ]
     },
     "execution_count": 23,
     "metadata": {},
     "output_type": "execute_result"
    }
   ],
   "source": [
    "x = np.linalg.solve(A, b)\n",
    "x/np.linalg.norm(x)"
   ]
  },
  {
   "cell_type": "code",
   "execution_count": 16,
   "metadata": {},
   "outputs": [],
   "source": [
    "x"
   ]
  }
 ],
 "metadata": {
  "kernelspec": {
   "display_name": "quarton",
   "language": "python",
   "name": "python3"
  },
  "language_info": {
   "codemirror_mode": {
    "name": "ipython",
    "version": 3
   },
   "file_extension": ".py",
   "mimetype": "text/x-python",
   "name": "python",
   "nbconvert_exporter": "python",
   "pygments_lexer": "ipython3",
   "version": "3.9.13"
  }
 },
 "nbformat": 4,
 "nbformat_minor": 2
}
