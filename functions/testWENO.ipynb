{
 "cells": [
  {
   "cell_type": "markdown",
   "metadata": {},
   "source": [
    "### Test WENO with Autograd\n"
   ]
  },
  {
   "cell_type": "code",
   "execution_count": 1,
   "metadata": {},
   "outputs": [],
   "source": [
    "import numpy as np\n",
    "import matplotlib.pyplot as plt\n",
    "from evalf import evalf\n",
    "\n",
    "from scipy.integrate import odeint\n",
    "\n",
    "%load_ext autoreload\n",
    "%autoreload 2\n",
    "\n",
    "\n",
    "def better_imshow(row_vals, col_vals, data, ax=None):\n",
    "    #row_vals and col_vals are the data that was swept over\n",
    "    assert len(row_vals) == data.shape[0], 'length of row_vals does not match shape of data'\n",
    "    assert len(col_vals) == data.shape[1], 'length of col_vals does not match shape of data'\n",
    "    if ax == None:\n",
    "        plt.imshow(data, origin='lower', extent=[col_vals[0], col_vals[-1], row_vals[0], row_vals[-1]], aspect='auto')\n",
    "    else:\n",
    "        ax.imshow(data, origin='lower', extent=[col_vals[0], col_vals[-1], row_vals[0], row_vals[-1]], aspect='auto')"
   ]
  },
  {
   "cell_type": "markdown",
   "metadata": {},
   "source": [
    "#### Find Reference"
   ]
  },
  {
   "cell_type": "code",
   "execution_count": 3,
   "metadata": {},
   "outputs": [
    {
     "ename": "KeyboardInterrupt",
     "evalue": "",
     "output_type": "error",
     "traceback": [
      "\u001b[0;31m---------------------------------------------------------------------------\u001b[0m",
      "\u001b[0;31mKeyboardInterrupt\u001b[0m                         Traceback (most recent call last)",
      "\u001b[1;32m/Users/hannahgold/Desktop/MIT2023-2024/6.7300 Modelling and Simulation/crystalPBM/functions/testWENO.ipynb Cell 4\u001b[0m line \u001b[0;36m2\n\u001b[1;32m     <a href='vscode-notebook-cell:/Users/hannahgold/Desktop/MIT2023-2024/6.7300%20Modelling%20and%20Simulation/crystalPBM/functions/testWENO.ipynb#X15sZmlsZQ%3D%3D?line=25'>26</a>\u001b[0m \u001b[39m#integrate the equations\u001b[39;00m\n\u001b[1;32m     <a href='vscode-notebook-cell:/Users/hannahgold/Desktop/MIT2023-2024/6.7300%20Modelling%20and%20Simulation/crystalPBM/functions/testWENO.ipynb#X15sZmlsZQ%3D%3D?line=26'>27</a>\u001b[0m x_ref \u001b[39m=\u001b[39m np\u001b[39m.\u001b[39mhstack([S0, V0, n0])\n\u001b[0;32m---> <a href='vscode-notebook-cell:/Users/hannahgold/Desktop/MIT2023-2024/6.7300%20Modelling%20and%20Simulation/crystalPBM/functions/testWENO.ipynb#X15sZmlsZQ%3D%3D?line=27'>28</a>\u001b[0m x_t_ref \u001b[39m=\u001b[39m odeint(evalf, y0\u001b[39m=\u001b[39mx_ref, t\u001b[39m=\u001b[39mtlist, args\u001b[39m=\u001b[39m(p,\u001b[39mNone\u001b[39;00m))\n",
      "File \u001b[0;32m~/anaconda3/lib/python3.11/site-packages/scipy/integrate/_odepack_py.py:242\u001b[0m, in \u001b[0;36modeint\u001b[0;34m(func, y0, t, args, Dfun, col_deriv, full_output, ml, mu, rtol, atol, tcrit, h0, hmax, hmin, ixpr, mxstep, mxhnil, mxordn, mxords, printmessg, tfirst)\u001b[0m\n\u001b[1;32m    240\u001b[0m t \u001b[39m=\u001b[39m copy(t)\n\u001b[1;32m    241\u001b[0m y0 \u001b[39m=\u001b[39m copy(y0)\n\u001b[0;32m--> 242\u001b[0m output \u001b[39m=\u001b[39m _odepack\u001b[39m.\u001b[39modeint(func, y0, t, args, Dfun, col_deriv, ml, mu,\n\u001b[1;32m    243\u001b[0m                          full_output, rtol, atol, tcrit, h0, hmax, hmin,\n\u001b[1;32m    244\u001b[0m                          ixpr, mxstep, mxhnil, mxordn, mxords,\n\u001b[1;32m    245\u001b[0m                          \u001b[39mint\u001b[39m(\u001b[39mbool\u001b[39m(tfirst)))\n\u001b[1;32m    246\u001b[0m \u001b[39mif\u001b[39;00m output[\u001b[39m-\u001b[39m\u001b[39m1\u001b[39m] \u001b[39m<\u001b[39m \u001b[39m0\u001b[39m:\n\u001b[1;32m    247\u001b[0m     warning_msg \u001b[39m=\u001b[39m _msgs[output[\u001b[39m-\u001b[39m\u001b[39m1\u001b[39m]] \u001b[39m+\u001b[39m \u001b[39m\"\u001b[39m\u001b[39m Run with full_output = 1 to get quantitative information.\u001b[39m\u001b[39m\"\u001b[39m\n",
      "File \u001b[0;32m~/Desktop/MIT2023-2024/6.7300 Modelling and Simulation/crystalPBM/functions/evalf.py:25\u001b[0m, in \u001b[0;36mevalf\u001b[0;34m(x, t, p, u)\u001b[0m\n\u001b[1;32m      6\u001b[0m \u001b[39mdef\u001b[39;00m \u001b[39mevalf\u001b[39m(x, t, p, u):\n\u001b[1;32m      7\u001b[0m \u001b[39m    \u001b[39m\u001b[39m\"\"\"\u001b[39;00m\n\u001b[1;32m      8\u001b[0m \u001b[39m    forward pass of the time evolution\u001b[39;00m\n\u001b[1;32m      9\u001b[0m \u001b[39m    \u001b[39;00m\n\u001b[0;32m   (...)\u001b[0m\n\u001b[1;32m     22\u001b[0m \u001b[39m        dxdt\u001b[39;00m\n\u001b[1;32m     23\u001b[0m \u001b[39m    \"\"\"\u001b[39;00m\n\u001b[0;32m---> 25\u001b[0m     dndt \u001b[39m=\u001b[39m calc_dndt(x, p)\n\u001b[1;32m     26\u001b[0m     dS_dt \u001b[39m=\u001b[39m calc_dS_dt(x, p)\n\u001b[1;32m     27\u001b[0m     dV_dt \u001b[39m=\u001b[39m \u001b[39m-\u001b[39mp[\u001b[39m'\u001b[39m\u001b[39mE\u001b[39m\u001b[39m'\u001b[39m]\n",
      "File \u001b[0;32m~/Desktop/MIT2023-2024/6.7300 Modelling and Simulation/crystalPBM/functions/dndt.py:38\u001b[0m, in \u001b[0;36mcalc_dndt\u001b[0;34m(x, params)\u001b[0m\n\u001b[1;32m     36\u001b[0m \u001b[39melse\u001b[39;00m: \n\u001b[1;32m     37\u001b[0m     dGn_dL \u001b[39m=\u001b[39m np\u001b[39m.\u001b[39mgradient(G\u001b[39m*\u001b[39mn, edge_order\u001b[39m=\u001b[39m\u001b[39m2\u001b[39m)\u001b[39m/\u001b[39mdL \n\u001b[0;32m---> 38\u001b[0m B \u001b[39m=\u001b[39m crystal_birth_nucleation(x, params) \u001b[39m+\u001b[39m crystal_birth_breakage(n,params)\n\u001b[1;32m     39\u001b[0m D \u001b[39m=\u001b[39m crystal_death(n, params)\n\u001b[1;32m     40\u001b[0m dlogV_dt \u001b[39m=\u001b[39m \u001b[39m-\u001b[39m params[\u001b[39m'\u001b[39m\u001b[39mE\u001b[39m\u001b[39m'\u001b[39m]\u001b[39m/\u001b[39mV \u001b[39m#assuming constant evaporation\u001b[39;00m\n",
      "File \u001b[0;32m~/Desktop/MIT2023-2024/6.7300 Modelling and Simulation/crystalPBM/functions/birthrate.py:53\u001b[0m, in \u001b[0;36mcrystal_birth_breakage\u001b[0;34m(n, params)\u001b[0m\n\u001b[1;32m     51\u001b[0m B \u001b[39m=\u001b[39m np\u001b[39m.\u001b[39mzeros_like(L_list)\n\u001b[1;32m     52\u001b[0m \u001b[39mfor\u001b[39;00m i \u001b[39min\u001b[39;00m \u001b[39mrange\u001b[39m(\u001b[39mlen\u001b[39m(L_list)):\n\u001b[0;32m---> 53\u001b[0m     B[i] \u001b[39m=\u001b[39m np\u001b[39m.\u001b[39mtrapz(b(L_list[i:])\u001b[39m*\u001b[39ma(L_list[i:])\u001b[39m*\u001b[39mn[i:], L_list[i:])\n\u001b[1;32m     54\u001b[0m \u001b[39mif\u001b[39;00m flag \u001b[39m==\u001b[39m \u001b[39mTrue\u001b[39;00m: \n\u001b[1;32m     55\u001b[0m     \u001b[39mreturn\u001b[39;00m B\n",
      "File \u001b[0;32m<__array_function__ internals>:177\u001b[0m, in \u001b[0;36mtrapz\u001b[0;34m(*args, **kwargs)\u001b[0m\n",
      "\u001b[0;31mKeyboardInterrupt\u001b[0m: "
     ]
    }
   ],
   "source": [
    "\n",
    "\n",
    "\n",
    "L_list = np.linspace(0,1e-2, 100000)\n",
    "tlist = np.linspace(0,1e-5,10000) \n",
    "\n",
    "\n",
    "S0 = 1 #initial supersaturation\n",
    "V0 = 1 #initial volume\n",
    "n0 = np.zeros_like(L_list) #initial population density distribution\n",
    "\n",
    "#parameters\n",
    "p = {\"L_list\" : L_list, #discretization bins\n",
    "     'E' :  1e-7, #evaporation rate\n",
    "     'rho' : 1200, # density of the crystal\n",
    "     'k_v' : 1, #goes in N_C, volumetric shape factor\n",
    "     'k_g' : 1e-3, #growth rate constant m/s\n",
    "     'g' : 1, #power constant for growth\n",
    "     'k_N' : 1e5, #nucleation rate constant \n",
    "     'alpha' :2, #power constant for nucleation\n",
    "     'Breakage': True, #toggle breakage for debug\n",
    "     'weno': False  # use weno or not for differentiation w.r.t. L\n",
    "     }\n",
    "\n",
    "\n",
    "#integrate the equations\n",
    "x_ref = np.hstack([S0, V0, n0])\n",
    "x_t_ref = odeint(evalf, y0=x_ref, t=tlist, args=(p,None))"
   ]
  },
  {
   "cell_type": "markdown",
   "metadata": {},
   "source": [
    "#### With Weno \n"
   ]
  },
  {
   "cell_type": "markdown",
   "metadata": {},
   "source": []
  },
  {
   "cell_type": "code",
   "execution_count": null,
   "metadata": {},
   "outputs": [],
   "source": [
    "\n",
    "\n",
    "\n",
    "L_list = np.linspace(0,1e-2, 1000)\n",
    "tlist = np.linspace(0,1e-2,1000) \n",
    "\n",
    "\n",
    "S0 = 1 #initial supersaturation\n",
    "V0 = 1 #initial volume\n",
    "n0 = np.zeros_like(L_list) #initial population density distribution\n",
    "\n",
    "#parameters\n",
    "p = {\"L_list\" : L_list, #discretization bins\n",
    "     'E' :  1e-7, #evaporation rate\n",
    "     'rho' : 1200, # density of the crystal\n",
    "     'k_v' : 1, #goes in N_C, volumetric shape factor\n",
    "     'k_g' : 1e-3, #growth rate constant m/s\n",
    "     'g' : 1, #power constant for growth\n",
    "     'k_N' : 1e5, #nucleation rate constant \n",
    "     'alpha' :2, #power constant for nucleation\n",
    "     'Breakage': True, #toggle breakage for debug\n",
    "     'weno': True  # use weno or not for differentiation w.r.t. L\n",
    "     }\n",
    "\n",
    "\n",
    "#integrate the equations\n",
    "x = np.hstack([S0, V0, n0])\n",
    "x_t = odeint(evalf, y0=x, t=tlist, args=(p,None))\n",
    "\n",
    "\n",
    "#plot results\n",
    "n_t = x_t[:,2:]\n",
    "better_imshow(L_list, tlist, n_t.T)\n",
    "plt.ylabel('L (particle size)')\n",
    "plt.xlabel('time')\n",
    "plt.colorbar()\n",
    "plt.show()\n",
    "\n",
    "plt.plot(tlist, x_t[:,0]) \n",
    "plt.title('supersaturation')\n",
    "plt.xlabel('t')\n",
    "plt.show()\n",
    "\n",
    "plt.plot(tlist, x_t[:,1]) \n",
    "plt.title('volume')\n",
    "plt.xlabel('t')"
   ]
  },
  {
   "cell_type": "markdown",
   "metadata": {},
   "source": [
    "### Without Weno"
   ]
  },
  {
   "cell_type": "code",
   "execution_count": null,
   "metadata": {},
   "outputs": [],
   "source": [
    "\n",
    "\n",
    "\n",
    "L_list = np.linspace(0,1e-2, 1000)\n",
    "tlist = np.linspace(0,3,1000) \n",
    "\n",
    "\n",
    "S0 = 1 #initial supersaturation\n",
    "V0 = 1 #initial volume\n",
    "n0 = np.zeros_like(L_list) #initial population density distribution\n",
    "\n",
    "#parameters\n",
    "p = {\"L_list\" : L_list, #discretization bins\n",
    "     'E' :  1e-7, #evaporation rate\n",
    "     'rho' : 1200, # density of the crystal\n",
    "     'k_v' : 1, #goes in N_C, volumetric shape factor\n",
    "     'k_g' : 1e-3, #growth rate constant m/s\n",
    "     'g' : 1, #power constant for growth\n",
    "     'k_N' : 1e5, #nucleation rate constant \n",
    "     'alpha' :2, #power constant for nucleation\n",
    "     'Breakage': True, #toggle breakage for debug\n",
    "     'weno': False  # use weno or not for differentiation w.r.t. L\n",
    "     }\n",
    "\n",
    "\n",
    "#integrate the equations\n",
    "x = np.hstack([S0, V0, n0])\n",
    "x_t = odeint(evalf, y0=x, t=tlist, args=(p,None))\n",
    "\n",
    "\n",
    "#plot results\n",
    "n_t = x_t[:,2:]\n",
    "better_imshow(L_list, tlist, n_t.T)\n",
    "plt.ylabel('L (particle size)')\n",
    "plt.xlabel('time')\n",
    "plt.colorbar()\n",
    "plt.show()\n",
    "\n",
    "plt.plot(tlist, x_t[:,0]) \n",
    "plt.title('supersaturation')\n",
    "plt.xlabel('t')\n",
    "plt.show()\n",
    "\n",
    "plt.plot(tlist, x_t[:,1]) \n",
    "plt.title('volume')\n",
    "plt.xlabel('t')"
   ]
  }
 ],
 "metadata": {
  "kernelspec": {
   "display_name": "Python 3",
   "language": "python",
   "name": "python3"
  },
  "language_info": {
   "codemirror_mode": {
    "name": "ipython",
    "version": 3
   },
   "file_extension": ".py",
   "mimetype": "text/x-python",
   "name": "python",
   "nbconvert_exporter": "python",
   "pygments_lexer": "ipython3",
   "version": "3.11.5"
  }
 },
 "nbformat": 4,
 "nbformat_minor": 2
}
