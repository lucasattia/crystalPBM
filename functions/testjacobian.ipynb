{
 "cells": [
  {
   "cell_type": "code",
   "execution_count": 2,
   "metadata": {},
   "outputs": [
    {
     "name": "stdout",
     "output_type": "stream",
     "text": [
      "The autoreload extension is already loaded. To reload it, use:\n",
      "  %reload_ext autoreload\n"
     ]
    }
   ],
   "source": [
    "import numpy as np\n",
    "import matplotlib.pyplot as plt\n",
    "from evalf import evalf\n",
    "from jacobian import calc_jac\n",
    "\n",
    "from scipy.integrate import odeint\n",
    "\n",
    "%load_ext autoreload\n",
    "%autoreload 2\n",
    "\n",
    "\n",
    "def better_imshow(row_vals, col_vals, data, ax=None):\n",
    "    #row_vals and col_vals are the data that was swept over\n",
    "    assert len(row_vals) == data.shape[0], 'length of row_vals does not match shape of data'\n",
    "    assert len(col_vals) == data.shape[1], 'length of col_vals does not match shape of data'\n",
    "    if ax == None:\n",
    "        plt.imshow(data, origin='lower', extent=[col_vals[0], col_vals[-1], row_vals[0], row_vals[-1]], aspect='auto')\n",
    "    else:\n",
    "        ax.imshow(data, origin='lower', extent=[col_vals[0], col_vals[-1], row_vals[0], row_vals[-1]], aspect='auto')"
   ]
  },
  {
   "cell_type": "code",
   "execution_count": null,
   "metadata": {},
   "outputs": [],
   "source": [
    "#todo: copy-paste below cells with diff parameters to test Jacobian makes sense"
   ]
  },
  {
   "cell_type": "code",
   "execution_count": 5,
   "metadata": {},
   "outputs": [],
   "source": [
    "L_list = np.linspace(0,1, 100)\n",
    "\n",
    "S = 1 #initial supersaturation\n",
    "n = np.zeros_like(L_list) #initial population density distribution\n",
    "\n",
    "\n",
    "#parameters\n",
    "p = {\"L_list\" : L_list, #discretization bins\n",
    "     'E' :  1, #evaporation rate\n",
    "     'V' : 1, #solvent volume\n",
    "     'rho' : 1, # density of the crystal\n",
    "     'k_v' : 1, #goes in N_C, volumetric shape factor\n",
    "     'k_g' : 1, #growth rate constant m/s\n",
    "     'g' : 3, #power constant for growth\n",
    "     'k_N' : 1, #nucleation rate constant \n",
    "     'alpha' :5, #power constant for nucleation\n",
    "     }\n",
    "\n",
    "\n",
    "x = np.hstack([S, n])\n",
    "\n",
    "J = calc_jac(x, p)"
   ]
  },
  {
   "cell_type": "code",
   "execution_count": 7,
   "metadata": {},
   "outputs": [
    {
     "data": {
      "text/plain": [
       "<matplotlib.image.AxesImage at 0x1c1a6bc6ca0>"
      ]
     },
     "execution_count": 7,
     "metadata": {},
     "output_type": "execute_result"
    },
    {
     "data": {
      "image/png": "[encoded data removed]",
      "text/plain": [
       "<Figure size 640x480 with 1 Axes>"
      ]
     },
     "metadata": {},
     "output_type": "display_data"
    }
   ],
   "source": [
    "plt.imshow(J) #almost diagonal, makes sense..."
   ]
  }
 ],
 "metadata": {
  "kernelspec": {
   "display_name": "quarton",
   "language": "python",
   "name": "python3"
  },
  "language_info": {
   "codemirror_mode": {
    "name": "ipython",
    "version": 3
   },
   "file_extension": ".py",
   "mimetype": "text/x-python",
   "name": "python",
   "nbconvert_exporter": "python",
   "pygments_lexer": "ipython3",
   "version": "3.9.13"
  },
  "orig_nbformat": 4
 },
 "nbformat": 4,
 "nbformat_minor": 2
}
