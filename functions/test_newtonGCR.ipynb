{
 "cells": [
  {
   "cell_type": "code",
   "execution_count": 7,
   "metadata": {},
   "outputs": [],
   "source": [
    "import numpy as np\n",
    "from newtonGCR import NewtonGCR\n",
    "\n",
    "\n",
    "%load_ext autoreload\n",
    "%autoreload 2"
   ]
  },
  {
   "cell_type": "code",
   "execution_count": 23,
   "metadata": {},
   "outputs": [],
   "source": [
    "N = 5  # num variables\n",
    "\n",
    "A = np.random.rand(N,N)\n",
    "\n",
    "\n",
    "def f(x, _=None):\n",
    "    return x * (A@x-2)\n",
    "\n",
    "\n",
    "x0 = np.random.rand(N)"
   ]
  },
  {
   "cell_type": "code",
   "execution_count": 24,
   "metadata": {},
   "outputs": [
    {
     "name": "stdout",
     "output_type": "stream",
     "text": [
      "Newton converged in iterations\n",
      " 8\n"
     ]
    }
   ],
   "source": [
    "x,converged,errf_k,errDeltax_k,relDeltax_k,iterations,X = NewtonGCR(x0, f, p=None, errf=1e-8, errDeltax=1e-8, relDeltax=1e-8, MaxIter=30, tolrGCR=1e-8, epsMF=1e-8)"
   ]
  },
  {
   "cell_type": "code",
   "execution_count": 25,
   "metadata": {},
   "outputs": [
    {
     "data": {
      "text/plain": [
       "array([-2.22708338e-16, -4.64839145e-22,  6.81297165e-20, -8.14154495e-23,\n",
       "       -4.68433440e-16])"
      ]
     },
     "execution_count": 25,
     "metadata": {},
     "output_type": "execute_result"
    }
   ],
   "source": [
    "f(x[:,-1])"
   ]
  }
 ],
 "metadata": {
  "kernelspec": {
   "display_name": "quarton",
   "language": "python",
   "name": "python3"
  },
  "language_info": {
   "codemirror_mode": {
    "name": "ipython",
    "version": 3
   },
   "file_extension": ".py",
   "mimetype": "text/x-python",
   "name": "python",
   "nbconvert_exporter": "python",
   "pygments_lexer": "ipython3",
   "version": "3.9.13"
  }
 },
 "nbformat": 4,
 "nbformat_minor": 2
}
